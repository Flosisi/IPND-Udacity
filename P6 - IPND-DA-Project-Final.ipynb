{
 "cells": [
  {
   "cell_type": "markdown",
   "metadata": {},
   "source": [
    "# Introduction\n",
    "\n",
    "This project is done as part of requirements to graduate from Intro to Programming Nano Degree (IPND) by Udacity. I have chosen Data Analytics path to focus on. Therefore, this final project is to do investigation on 1D and 2D data.\n",
    "\n",
    "I document the steps that I have done in this project and share my findings in this report using the following outline. \n",
    "1. Problem statement - what are the questions?\n",
    "2. Data wrangling - data acquisitions and data cleaning\n",
    "3. Data exploration - finding patterns in the data sets\n",
    "4. Draw conclusion - make hipotesis or predictions \n",
    "5. Communicate findings - data visualisation and project report\n",
    "\n",
    "Steps 3, 4 and 5 will be presented together for each analysis done to try to answer the each questions. \n",
    "\n",
    "Note: Ensure that the codes are run in sequence once each. Otherwise, it could produce errors. Especially, where there are permanent modification of data set. In this case, please repeat to run the code from the very beginning. However, individual command to print a preview of data or a whole data set can be executed repeatedly by following the the instruction in the code's comment.  \n",
    "\n"
   ]
  },
  {
   "cell_type": "markdown",
   "metadata": {},
   "source": [
    "## Section 1 - Problem Statements\n",
    "\n",
    "The data sets are chosen from Gapminder World.\n",
    "\n",
    "The nature of data available in Gapminder are related to lives of people in different countries across the years based on various indicators. The main reason I chose this data set is because it could be relatable to me and sparks my curiousity about how conditions in different countries affect they way we live. There are a lot of possible questions that can be asked by comparing these indicators and investigate their patterns.\n",
    "\n",
    "While there are some better questions could be asked and more useful for the world, some of them are quite common and have been analysed too often. Therefore, I would like to explore some of the aspects that more related to my daily life and my generation, which are alcohol, food, and work life. I am curious about:\n",
    "* Do people in richer countries work longer or less hours?\n",
    "* Do people drink more alcohol in countries where they work longer hours?\n",
    "* Culturally wise, I've heard some countries tend to spend their social life over the food and some over the drinks. Is this true? Do countries where people tend to drink more would eat less, and vice versa?\n",
    "* How is food consumption in various countries?\n",
    "* Does food consumption affect life expectancies? If so, how? Would we be able to see how over-consumption of food lead to lower life expectancies?\n",
    "\n",
    "\n"
   ]
  },
  {
   "cell_type": "markdown",
   "metadata": {},
   "source": [
    "## Section 2 - Data Wrangling\n",
    "\n",
    "\n",
    "### 2.1 Data Acquisition\n",
    "\n",
    "To do the analysis on the questions above, I will use the following indicators:\n",
    "* GDP (per capita, USD, inflation-adjusted))\n",
    "* Work hours (per week per person)\n",
    "* Alcohol consumption (per adult (15+) in litres)\n",
    "* Food consumption (kilocalories per person per day)\n",
    "* Life expectancies (years old)\n",
    "\n",
    "All the data is downloaded from Gapminder.org in excel format. I did the export to CSV format outside this notebook.\n",
    "\n",
    "Most of the data that were imported are presented in the tables that have 'name of countries' in the rows and relevant 'year' of corresponding data for each country as the header for each columns. They can be assigned to either numPy 2D array or pandas 2D data frame. While from skimming through the data used in this project we could tell that the data will be the same data type, which is float, I will use pandas 2D data frame instead. \n",
    "\n",
    "Eventhough processing the data in numPy might be faster, for the size of these data sets, it is not a concern and the difference might be unnoticable. From the lessons that I saw in Udacity modules, it seems that Panda can process this type of data in more efficient way, which will reduce the complexity of my program. Pandas also has more functionality that might be useful in the future, should I decide to use this data further with other type of indicators."
   ]
  },
  {
   "cell_type": "code",
   "execution_count": 1,
   "metadata": {},
   "outputs": [],
   "source": [
    "# Import packages that for Data Analytics.\n",
    "import numpy as np\n",
    "import pandas as pd\n",
    "from scipy import stats, integrate\n",
    "import matplotlib.pyplot as plt\n",
    "import seaborn as sns\n",
    "from pylab import polyfit, poly1d"
   ]
  },
  {
   "cell_type": "code",
   "execution_count": 2,
   "metadata": {},
   "outputs": [],
   "source": [
    "# Import CSVs into pandas DataFrame.\n",
    "gdp = pd.read_csv ('gdp-per-capita.csv')\n",
    "work_hours = pd.read_csv('work-hours-per-week.csv', sep = None, engine='python')\n",
    "alcohol_consumption = pd.read_csv('alcohol-consumption.csv', sep = None, engine='python')\n",
    "food_consumption = pd.read_csv('food-consumption.csv', sep = None, engine='python')\n",
    "life_expectancy = pd.read_csv('life-expectancy.csv')"
   ]
  },
  {
   "cell_type": "markdown",
   "metadata": {},
   "source": [
    "There were some errors when I tried to import the files due to non-standard alphabets used in the name of some countries. This was fixed directly in the CSV files. Apart from that, no data cleaning is done outside of this Jupyter Notebook."
   ]
  },
  {
   "cell_type": "markdown",
   "metadata": {},
   "source": [
    "### 2.2 Data Cleaning\n",
    "\n",
    "Before starting to work with the data, I want to make sure the data is clean and in a good quality to be further used properly for the exploration and analysis. I will convert each data sets into a good and standardised format of data frame. Then, I will further investigate if there are still problem with the quality of each data set before we begin to explore and analyse the correlation in between the indicators.\n",
    "\n",
    "Also, as I would like to know the lifestyle of my generation, which in general is classified as Millenials. Therefore, I only want to use quite recent data, from the 90s onwards. Old data would be irrelevant to the situation that I want to investigate and also most likely the data are not available across all data sets of have a lot of missing values.\n",
    "\n",
    "\n",
    "#### 2.2.1 Fixing Data Types\n",
    "\n",
    "To clean data sets into good format of data frames, I will work on data sets in the following steps:\n",
    "* Step 1 - Print a preview of the data set (the first 5 rows) to see the condition of the data and what needs to be done.\n",
    "* Step 2 - Assign 'years' as headers of columns and 'countries' as indexes.\n",
    "* Step 3 - Remove the data from before 1990.\n",
    "* Step 4 - Remove the columns and or rows that don't have any content. I do this step before further cleaning in data quality, as not to waste time to work on data that cannot be used or will be removed later on.\n",
    "* Step 5 - Assign the data to their appropriate types.\n"
   ]
  },
  {
   "cell_type": "code",
   "execution_count": 3,
   "metadata": {
    "scrolled": true
   },
   "outputs": [],
   "source": [
    "# Step 1 - Print the first 5 rows of the dataset for a preview.\n",
    "\n",
    "# Remove the hash (#) from the following comments so it will turn into a code to print preview of a particular data set.\n",
    "# It can only print one data set preview at a time, whichever the latest.\n",
    "\n",
    "#gdp.head()\n",
    "#work_hours.head()\n",
    "#alcohol_consumption.head()\n",
    "#food_consumption.head()\n",
    "#life_expectancy.head()"
   ]
  },
  {
   "cell_type": "code",
   "execution_count": 4,
   "metadata": {},
   "outputs": [],
   "source": [
    "# Step 2 -Assign 'years' as headers of columns and 'countries' as indexes.\n",
    "\n",
    "# From the preview, we can see the indexes are still using number of positions and doesn't have consistent name.\n",
    "\n",
    "# Assign the first column with countries names as index.\n",
    "gdp.set_index(\"Country\", inplace=True)\n",
    "work_hours.set_index(\"Working hours per week\", inplace=True)\n",
    "alcohol_consumption.set_index(\"Unnamed: 0\", inplace=True)\n",
    "food_consumption.set_index(\"Unnamed: 0\", inplace=True)\n",
    "life_expectancy.set_index(\"Country\", inplace=True)\n",
    "\n",
    "# Update the name of headers of indexes, so every index header will be called 'Country'\n",
    "work_hours.index.rename('Country', inplace=True)\n",
    "alcohol_consumption.index.rename('Country', inplace=True)\n",
    "food_consumption.index.rename('Country', inplace=True)\n",
    "\n"
   ]
  },
  {
   "cell_type": "code",
   "execution_count": 5,
   "metadata": {},
   "outputs": [],
   "source": [
    "# Step 3 - Remove the data from before 1990.\n",
    "\n",
    "# I create new copies and kept the original imported data sets.\n",
    "gdp_recent = gdp.loc[:,'1990':]\n",
    "work_hours_recent = work_hours.loc[:,'1990':]\n",
    "alcohol_consumption_recent = alcohol_consumption.loc[:,'1990':]\n",
    "food_consumption_recent = food_consumption.loc[:,'1990':]\n",
    "life_expectancy_recent = life_expectancy.loc[:,'1990':]\n"
   ]
  },
  {
   "cell_type": "code",
   "execution_count": 6,
   "metadata": {},
   "outputs": [],
   "source": [
    "# Step 4 - Remove the columns and or rows that don't have any content.\n",
    "\n",
    "gdp_cleandata = gdp_recent.dropna(axis=0, how='all')\n",
    "gdp_cleandata = gdp_cleandata.dropna(axis=1, how='all')\n",
    "\n",
    "work_hours_cleandata = work_hours_recent.dropna(axis=0, how='all')\n",
    "work_hours_cleandata = work_hours_cleandata.dropna(axis=1, how='all')\n",
    "\n",
    "alcohol_consumption_cleandata = alcohol_consumption_recent.dropna(axis=0, how='all')\n",
    "alcohol_consumption_cleandata = alcohol_consumption_cleandata.dropna(axis=1, how='all')\n",
    "\n",
    "food_consumption_cleandata = food_consumption_recent.dropna(axis=0, how='all')\n",
    "food_consumption_cleandata = food_consumption_cleandata.dropna(axis=1, how='all')\n",
    "\n",
    "life_expectancy_cleandata = life_expectancy_recent.dropna(axis=0, how='all')\n",
    "life_expectancy_cleandata = life_expectancy_cleandata.dropna(axis=1, how='all')\n"
   ]
  },
  {
   "cell_type": "markdown",
   "metadata": {},
   "source": [
    "From printing the preview of data above, I saw that they are continous data that are in fractions. Therefore, I will update their data type into float and round the decimals up to 2 decimals so the data is tidier and easier to be read."
   ]
  },
  {
   "cell_type": "code",
   "execution_count": 7,
   "metadata": {},
   "outputs": [],
   "source": [
    "# Step 5 - Assign the data to float data type.\n",
    "\n",
    "gdp_df = pd.DataFrame(data=gdp_cleandata, dtype=np.float).round(2)\n",
    "work_hours_df = pd.DataFrame(data=work_hours_cleandata, dtype=np.float).round(2)\n",
    "alcohol_consumption_df = pd.DataFrame(data=alcohol_consumption_cleandata, dtype=np.float).round(2)\n",
    "food_consumption_df = pd.DataFrame(data=food_consumption_cleandata, dtype=np.float).round(2)\n",
    "life_expectancy_df = pd.DataFrame(data=life_expectancy_cleandata, dtype=np.float).round(2)\n"
   ]
  },
  {
   "cell_type": "markdown",
   "metadata": {},
   "source": [
    "\n",
    "\n",
    "\n",
    "\n",
    "\n",
    "#### 2.2.2 Problems in the Data\n",
    "\n",
    "There are some limitations in Gapminder datasets, which are inconsistencies of data availability for some years or some countries. To see where the problems lie, we need to investigate the data and identify the abnormalities across 5 datasets that we are using. Only then, we can clean and improve the quality of data to be further explored in the next step.\n",
    "\n",
    "Let's start this by printing previews of new data sets."
   ]
  },
  {
   "cell_type": "code",
   "execution_count": 8,
   "metadata": {},
   "outputs": [],
   "source": [
    "# Preview the corrected data set.\n",
    "\n",
    "# Remove the hash (#) from the following comments so it will turn into a code to print preview of a particular data set.\n",
    "# It can only print one data set preview at a time, whichever the latest.\n",
    "\n",
    "#gdp_df.head()\n",
    "#work_hours_df.head()\n",
    "#alcohol_consumption_df.head()\n",
    "#food_consumption_df.head()\n",
    "#life_expectancy_df.head()"
   ]
  },
  {
   "cell_type": "markdown",
   "metadata": {},
   "source": [
    "At this point, data with no values are still marked with NaN (Not a Number) and kept within the data frame.\n",
    "\n",
    "\n",
    "##### Availibilty of data in specific year across whole data sets\n",
    "From printing data sets above, we could see that available data are not really up to date. Even for some, it only have data for some years. Below are the highlights:"
   ]
  },
  {
   "cell_type": "code",
   "execution_count": 9,
   "metadata": {},
   "outputs": [
    {
     "name": "stdout",
     "output_type": "stream",
     "text": [
      "GDP data is available up to year 2011\n",
      "Work hours data is available up to year 2007\n",
      "Alcohol consumption data is available up to year 2008\n",
      "Food consumption data is available up to year 2007\n",
      "Life Expectancies data is available up to year 2013\n"
     ]
    }
   ],
   "source": [
    "#### Last year of available data.\n",
    "print ('GDP data is available up to year ' + gdp_df.dtypes.index[-1])\n",
    "print ('Work hours data is available up to year ' + work_hours_df.dtypes.index[-1])\n",
    "print ('Alcohol consumption data is available up to year ' + alcohol_consumption_df.dtypes.index[-1])\n",
    "print ('Food consumption data is available up to year ' + food_consumption_df.dtypes.index[-1])\n",
    "print ('Life Expectancies data is available up to year ' + life_expectancy_df.dtypes.index[-1])"
   ]
  },
  {
   "cell_type": "markdown",
   "metadata": {},
   "source": [
    "Therefore, we can't really use data from beyond 2007.\n",
    "\n",
    "Apart from that, when I print out the first 5 rows of data of alcohol consumption, it looks like most columns have NaNs. However, somehow these columns are not deleted by our formula earlier. It could mean that there are some rows that have values within these columns. Let's check how much data they have and whether we can use them or not.  "
   ]
  },
  {
   "cell_type": "code",
   "execution_count": 10,
   "metadata": {},
   "outputs": [
    {
     "data": {
      "text/plain": [
       "1990      4\n",
       "1991      1\n",
       "1992      2\n",
       "1993      4\n",
       "1994      6\n",
       "1995      4\n",
       "1996      2\n",
       "1998      1\n",
       "2000      1\n",
       "2001      1\n",
       "2002      1\n",
       "2003      1\n",
       "2004      1\n",
       "2005    188\n",
       "2006      1\n",
       "2007      1\n",
       "2008    187\n",
       "dtype: int64"
      ]
     },
     "execution_count": 10,
     "metadata": {},
     "output_type": "execute_result"
    }
   ],
   "source": [
    "alcohol_consumption_df.count()"
   ]
  },
  {
   "cell_type": "markdown",
   "metadata": {},
   "source": [
    "We can see that most of those columns only have less than 10 data points. It's not something that would help in our data analysis to answer our questions. From alcohol consumption data set, only data in year 2005 and 2008 that are good to be used. However, since we will do analysis with other data sets and our previous investigation showed us that we only have enough data across all data sets up to 2007, only data from 2005 that we can use.\n",
    "\n",
    "Based on these, I will only use data from 2005 from each of our data sets, which potentially could be used as pandas series or data frame, depends on the pairing analysis that we will do to answer the questions.\n",
    "\n",
    "I will create new data sets for these series (instead of modifying the original or the previous cleaned-up versions of the data sets). The reason being is because perhaps in the future I would like to explore further the data within other years.\n",
    "\n",
    "\n",
    "##### Extract series from each DataFrame for year 2005 and remove missing values"
   ]
  },
  {
   "cell_type": "code",
   "execution_count": 11,
   "metadata": {},
   "outputs": [],
   "source": [
    "gdp_2005 = gdp_df.loc[:,'2005'].dropna()\n",
    "work_hours_2005 = work_hours_df.loc[:,'2005'].dropna()\n",
    "alcohol_consumption_2005 = alcohol_consumption_df.loc[:,'2005'].dropna()\n",
    "food_consumption_2005 = food_consumption_df.loc[:,'2005'].dropna()\n",
    "life_expectancy_2005 = life_expectancy_df.loc[:,'2005'].dropna()"
   ]
  },
  {
   "cell_type": "markdown",
   "metadata": {},
   "source": [
    "##### Printing each series to spot abnormalities, if any\n",
    "\n",
    "I will only do a quick review if there are more abnormalities that can be spot from seeing the data. Therefore, I will comment-out the commands below and change remove the # to print them quickly and turn it back to # after scanning the result."
   ]
  },
  {
   "cell_type": "code",
   "execution_count": 12,
   "metadata": {},
   "outputs": [],
   "source": [
    "# Remove the hash (#) from the following comments so it will turn into a code to print a particular series.\n",
    "# It can only print one series at a time, whichever the latest.\n",
    "\n",
    "#print (gdp_2005)\n",
    "#print (work_hours_2005)\n",
    "#print (alcohol_consumption_2005)\n",
    "#print (food_consumption_2005)\n",
    "#print (life_expectancy_2005)"
   ]
  },
  {
   "cell_type": "markdown",
   "metadata": {},
   "source": [
    "Most of data looks good. However, there are only 30 usable data points in work_hours_2005. Since this is one of indicator in the first two questions, our analysis might be limited to these countries. While we still can do the analysis, it might not be as accurate, as we are missing countries to represent Africa and most of Asia and South America. Further analysis will be done in answering Q1 in section 3.3 below.  "
   ]
  },
  {
   "cell_type": "markdown",
   "metadata": {},
   "source": [
    "## Section 3 - Data Exploration, Conclusion and Findings\n",
    "\n",
    "\n",
    "### 3.1 Refining the Question\n",
    "\n",
    "Some of the questions might not be able to be answered just by straight using our datasets. Before we attempt directly to answer the questions, let's get better understanding of the datasets and the approach that we can do to answer the questions. We may need to see the questions from different point of views or ask additional questions in between.\n",
    "\n",
    "During the process in cleaning up the data, I got a bit more familiar about what the data is about and how the remaining clean data looks like. I would like to reformulate my questions into the following:\n",
    "* Do countries with lower GDP demand longer work-hours?\n",
    "* Does longer work-hours lead into higher alcohol consumption?\n",
    "* Is there any strong correlation in between alcohol consumption and food consumption? \n",
    "* How food consumption in various countries affect life expectancies?\n",
    "* If I combine all these indicators together, would there be stronger correlation in between indicators that I have not included in my initial questions?\n",
    "\n",
    "\n",
    "\n",
    "\n"
   ]
  },
  {
   "cell_type": "markdown",
   "metadata": {},
   "source": [
    "### 3.2 Methodology\n",
    "\n",
    "Based on the questions above, I will analyse the pairings of the data and determine whether they will use 1D or 2D data analysis approach. Following that, I will do analysis using statistic and correlation to draw conclusion. Data will be mapped into charts or graphs to visualise the distribution and make it easier for the reader to make sense of the result.\n"
   ]
  },
  {
   "cell_type": "markdown",
   "metadata": {},
   "source": [
    "\n",
    "\n",
    "#### 3.2.1 1D Data Analysis\n",
    "\n",
    "1D data analysis will be done by descriptive analysis about the data and investigating how strong the correlation of two pairing indicators in series. \n",
    "\n",
    "Statistic properties (eg. Count, Mean, Standard Deviation) will be printed to see an overview of the series. Also, the distribution of the data will be plotted to see how well the data spread and give a quick indication if there are areas that we could explore further in case of abnormalities within the data. If there is any abnormalities, we will go back to do Data Cleaning before proceeding further to analyse the correlation.\n",
    "\n",
    "In order to measure the correlation in between two series, in general we want to compare the following:\n",
    "* Number of countries where the both values are above or both are below the mean\n",
    "* Number of countries where one value is above and the other one is below the mean\n",
    "We will find these numbers using the following function where we will do vectorised operations using Bitwise (boolean) 'and' and  'or'."
   ]
  },
  {
   "cell_type": "code",
   "execution_count": 13,
   "metadata": {},
   "outputs": [],
   "source": [
    "def indicators_correlation (indicator1, indicator2):\n",
    "    \"\"\"\n",
    "    This function takes two type float series to see how many data points of index \n",
    "    go to the same direction and different direction. This will give a quick overview of\n",
    "    how those two series are correlated, either positively or negatively. \n",
    "    \n",
    "    If the result gives one of the number extremely higher compare to another, it indicates strong correlation.\n",
    "    If the result between two numbers are relatively equal, it indicates that the correlation is weak to no correlation.\n",
    "    \n",
    "    This formula is adapted from Udacity IPND lessons.\n",
    "    \"\"\"\n",
    "    both_above = (indicator1 > indicator1.mean()) & (indicator2 > indicator2.mean())\n",
    "    both_below = (indicator1 < indicator1.mean()) & (indicator2 < indicator2.mean())\n",
    "    same_direction = both_above | both_below\n",
    "    num_country_same_direction = same_direction.sum()\n",
    "    num_country_diff_direction = (len(indicator1) - num_country_same_direction)\n",
    "    return (num_country_same_direction,num_country_diff_direction)"
   ]
  },
  {
   "cell_type": "markdown",
   "metadata": {},
   "source": [
    "While it will not be the main method to measure the correlation in between two series, I will run a quick Pearson correlation just to see whether it's aligned with the result from the function above or not.\n",
    "\n",
    "After running these steps, I will draw a conclusion and share my findings.\n",
    "\n",
    "\n",
    "\n",
    "#### 3.2.2 2D Data Analysis\n",
    "\n",
    "2D data analysis will be done within a DataFrame that has 2 or more indicators. I will investigate the statistic overview about the data by using describe function and plot the distribution of all indicators in the same chart after they are normalised. If there is something out of ordinary, I will investigate further and might go back to Data Wrangling phase. \n",
    "\n",
    "If the data can be accepted within our defined requirements, I will proceed to calculate the Pearson values in order to analyse the correlation in between indicators. The result will be visualised in a scatter plot chart and readily to be interpreted by the readers. I will present a conclusion and share my findings."
   ]
  },
  {
   "cell_type": "markdown",
   "metadata": {},
   "source": [
    "### 3.3 Perform Data Analysis and Share Findings"
   ]
  },
  {
   "cell_type": "markdown",
   "metadata": {},
   "source": [
    "--------------------------------------------------------------------------------------------------------------------------------\n",
    "#### Q1: Do countries with lower GDP demand longer work-hours?\n",
    "\n",
    "My initial hipothesis is:\n",
    "* H0: There is quite strong negative correlation in between countries' GDP and Work Hours.\n",
    "\n",
    "Countries with higher GDP demand less working hours, due to maturity of government and companies regulation to work-life balance. Workers also get paid more equally, closer to countries' living costs mean, which means they don't have to work in more than one job or get overtime payment to support their life. The other factor that might play some role is the level of education and culture where it empowers its citizen to speak up and understand more about better quality of life.\n",
    "\n",
    "On the other side, countries with lower GDP might allow longer work hours, due to lack of government regulation and company policy for better work-life balance. These countries are also famous to inequality in their countries between the riches and poors, and many live below poverty line. These might lead to necessity to work longer hours or more jobs. Low level of education and culture may prohibit safe space to speak up to ask for better condition to improve quality of life."
   ]
  },
  {
   "cell_type": "markdown",
   "metadata": {},
   "source": [
    "\n",
    "\n",
    "To analyse this question, I will use two panda series, which are GDP and Work Hours data from 2005. The analysis will be done using 1D data analysis approach.\n",
    "\n",
    "When a country's GDP is above the mean, do their working population work longer hours (or vice versa)?\n",
    "* Number of countries where both of the Work Hours and GDP values are above or below the mean\n",
    "* Number of countries where the Work Hours value is above the mean and the GDP values is below the mean, or vice versa.\n",
    "\n",
    "From the previous prints, we know that Work Hours number of data points are very limited compare to the other data sets. Therefore, when GDP serie is mapped to corresponding countries in Work Hours data set, its length will be truncated at least equal if not less than length of Work Hours serie.\n",
    "\n",
    "Only data where the countries appear in both series will be used."
   ]
  },
  {
   "cell_type": "code",
   "execution_count": 14,
   "metadata": {},
   "outputs": [],
   "source": [
    "# Removing data of countries without matches.\n",
    "q1_pd = pd.concat([work_hours_2005, gdp_2005], axis=1).dropna()\n",
    "\n",
    "# Update the name of headers. This will improve readability of the data.\n",
    "q1_pd.columns.values[0] = 'Work Hours'\n",
    "q1_pd.columns.values[1] = 'GDP'\n",
    "\n",
    "# Re-split the data into 2 series for each indicator.\n",
    "q1_work_hours = q1_pd.iloc[:,0]\n",
    "q1_gdp = q1_pd.iloc[:,1]"
   ]
  },
  {
   "cell_type": "code",
   "execution_count": 15,
   "metadata": {},
   "outputs": [
    {
     "data": {
      "text/html": [
       "<div>\n",
       "<style scoped>\n",
       "    .dataframe tbody tr th:only-of-type {\n",
       "        vertical-align: middle;\n",
       "    }\n",
       "\n",
       "    .dataframe tbody tr th {\n",
       "        vertical-align: top;\n",
       "    }\n",
       "\n",
       "    .dataframe thead th {\n",
       "        text-align: right;\n",
       "    }\n",
       "</style>\n",
       "<table border=\"1\" class=\"dataframe\">\n",
       "  <thead>\n",
       "    <tr style=\"text-align: right;\">\n",
       "      <th></th>\n",
       "      <th>Work Hours</th>\n",
       "      <th>GDP</th>\n",
       "    </tr>\n",
       "  </thead>\n",
       "  <tbody>\n",
       "    <tr>\n",
       "      <th>count</th>\n",
       "      <td>28.000000</td>\n",
       "      <td>28.000000</td>\n",
       "    </tr>\n",
       "    <tr>\n",
       "      <th>mean</th>\n",
       "      <td>32.935357</td>\n",
       "      <td>23728.094286</td>\n",
       "    </tr>\n",
       "    <tr>\n",
       "      <th>std</th>\n",
       "      <td>3.282979</td>\n",
       "      <td>12263.369908</td>\n",
       "    </tr>\n",
       "    <tr>\n",
       "      <th>min</th>\n",
       "      <td>26.440000</td>\n",
       "      <td>4887.370000</td>\n",
       "    </tr>\n",
       "    <tr>\n",
       "      <th>25%</th>\n",
       "      <td>30.722500</td>\n",
       "      <td>14793.120000</td>\n",
       "    </tr>\n",
       "    <tr>\n",
       "      <th>50%</th>\n",
       "      <td>33.165000</td>\n",
       "      <td>24614.060000</td>\n",
       "    </tr>\n",
       "    <tr>\n",
       "      <th>75%</th>\n",
       "      <td>34.592500</td>\n",
       "      <td>31313.185000</td>\n",
       "    </tr>\n",
       "    <tr>\n",
       "      <th>max</th>\n",
       "      <td>39.480000</td>\n",
       "      <td>51927.360000</td>\n",
       "    </tr>\n",
       "  </tbody>\n",
       "</table>\n",
       "</div>"
      ],
      "text/plain": [
       "       Work Hours           GDP\n",
       "count   28.000000     28.000000\n",
       "mean    32.935357  23728.094286\n",
       "std      3.282979  12263.369908\n",
       "min     26.440000   4887.370000\n",
       "25%     30.722500  14793.120000\n",
       "50%     33.165000  24614.060000\n",
       "75%     34.592500  31313.185000\n",
       "max     39.480000  51927.360000"
      ]
     },
     "execution_count": 15,
     "metadata": {},
     "output_type": "execute_result"
    }
   ],
   "source": [
    "q1_pd.describe()"
   ]
  },
  {
   "cell_type": "code",
   "execution_count": 16,
   "metadata": {},
   "outputs": [
    {
     "name": "stderr",
     "output_type": "stream",
     "text": [
      "C:\\Users\\Sisi Florensia\\Anaconda3\\lib\\site-packages\\matplotlib\\axes\\_axes.py:6448: UserWarning: The 'normed' kwarg is deprecated, and has been replaced by the 'density' kwarg.\n",
      "  warnings.warn(\"The 'normed' kwarg is deprecated, and has been \"\n"
     ]
    },
    {
     "data": {
      "image/png": "[encoded data removed]",
      "text/plain": [
       "<Figure size 432x288 with 1 Axes>"
      ]
     },
     "metadata": {},
     "output_type": "display_data"
    }
   ],
   "source": [
    "x = q1_work_hours\n",
    "sns.distplot(x, kde=False, fit=stats.gamma);\n"
   ]
  },
  {
   "cell_type": "code",
   "execution_count": 17,
   "metadata": {},
   "outputs": [
    {
     "name": "stderr",
     "output_type": "stream",
     "text": [
      "C:\\Users\\Sisi Florensia\\Anaconda3\\lib\\site-packages\\matplotlib\\axes\\_axes.py:6448: UserWarning: The 'normed' kwarg is deprecated, and has been replaced by the 'density' kwarg.\n",
      "  warnings.warn(\"The 'normed' kwarg is deprecated, and has been \"\n"
     ]
    },
    {
     "data": {
      "image/png": "[encoded data removed]",
      "text/plain": [
       "<Figure size 432x288 with 1 Axes>"
      ]
     },
     "metadata": {},
     "output_type": "display_data"
    }
   ],
   "source": [
    "x = q1_gdp\n",
    "sns.distplot(x, kde=False, fit=stats.gamma);"
   ]
  },
  {
   "cell_type": "markdown",
   "metadata": {},
   "source": [
    "From running describe function, we could see that there are only 28 countries that are matches (instead of 30 from total data population in Work Hours). Regardless, we still have >90% of the expected data. So, based on Pareto Principle 80-20 rule, I dont think it is important to spend more time to investigate further what happened with the other 2 data points. \n",
    "\n",
    "Also, the distribution of each data sets look relatively normal. Therefore, there's not a lot of outliers present in these pairings of data sets. Apart from limitation of counts of data points, it doesn't seem there are further issues with the data. \n",
    "\n",
    "The range of the Work Hours in these countries, with GDP of USD 4,887.37 - USD 51,927.36 per person per year, is in between 26.44 hours per week to 39.48 hours per week. \n",
    "\n",
    "Next, let's see how is the correlation in between these two indicators using the function we created earlier to analyse 1D data."
   ]
  },
  {
   "cell_type": "code",
   "execution_count": 18,
   "metadata": {},
   "outputs": [
    {
     "data": {
      "text/plain": [
       "(9, 19)"
      ]
     },
     "execution_count": 18,
     "metadata": {},
     "output_type": "execute_result"
    }
   ],
   "source": [
    "# Calculate how many countries that go to same direction and how many go their opposite way, using the function earlier.\n",
    "indicators_correlation (q1_work_hours,q1_gdp)"
   ]
  },
  {
   "cell_type": "markdown",
   "metadata": {},
   "source": [
    "There are 9 out of 28 countries where work hours and GDP are both below or above the mean. This is almost 1/3 of our data.\n",
    "While the rest 19 out of 28 countries where work hours and GDP level go oppposit way. This is about 2/3 our our data.\n",
    "\n",
    "Based on this, it seems there could be some negative correlation in between these two parameters: in some countries where the GDP is high, people work less hours than in countries with lower GDP. However, this may be not always the case.\n",
    "\n",
    "Let's see what we can see from Pearson correlation value. While it is not the best way to measure correlation of two simple data sets, we can just quickly run this to compare the result with correlation analysis we did before."
   ]
  },
  {
   "cell_type": "code",
   "execution_count": 19,
   "metadata": {},
   "outputs": [
    {
     "data": {
      "text/html": [
       "<div>\n",
       "<style scoped>\n",
       "    .dataframe tbody tr th:only-of-type {\n",
       "        vertical-align: middle;\n",
       "    }\n",
       "\n",
       "    .dataframe tbody tr th {\n",
       "        vertical-align: top;\n",
       "    }\n",
       "\n",
       "    .dataframe thead th {\n",
       "        text-align: right;\n",
       "    }\n",
       "</style>\n",
       "<table border=\"1\" class=\"dataframe\">\n",
       "  <thead>\n",
       "    <tr style=\"text-align: right;\">\n",
       "      <th></th>\n",
       "      <th>Work Hours</th>\n",
       "      <th>GDP</th>\n",
       "    </tr>\n",
       "  </thead>\n",
       "  <tbody>\n",
       "    <tr>\n",
       "      <th>Work Hours</th>\n",
       "      <td>1.000000</td>\n",
       "      <td>-0.569682</td>\n",
       "    </tr>\n",
       "    <tr>\n",
       "      <th>GDP</th>\n",
       "      <td>-0.569682</td>\n",
       "      <td>1.000000</td>\n",
       "    </tr>\n",
       "  </tbody>\n",
       "</table>\n",
       "</div>"
      ],
      "text/plain": [
       "            Work Hours       GDP\n",
       "Work Hours    1.000000 -0.569682\n",
       "GDP          -0.569682  1.000000"
      ]
     },
     "execution_count": 19,
     "metadata": {},
     "output_type": "execute_result"
    }
   ],
   "source": [
    "q1_pd.corr()"
   ]
  },
  {
   "cell_type": "markdown",
   "metadata": {},
   "source": [
    "The Pearson value is also showing some notably negative correlation, though might not be as strong. This is aligned with the previous analysis."
   ]
  },
  {
   "cell_type": "markdown",
   "metadata": {},
   "source": [
    "###### Q1 Disclaimer:\n",
    "We are missing data from most low income countries. Let's look at how the GDP data looks like before we mapped it with countries available in Work Hours data. "
   ]
  },
  {
   "cell_type": "code",
   "execution_count": 20,
   "metadata": {},
   "outputs": [
    {
     "data": {
      "text/plain": [
       "count      194.00000\n",
       "mean      8545.10433\n",
       "std      13440.15365\n",
       "min         92.37000\n",
       "25%        628.41250\n",
       "50%       2284.19000\n",
       "75%       9656.00000\n",
       "max      81827.96000\n",
       "Name: 2005, dtype: float64"
      ]
     },
     "execution_count": 20,
     "metadata": {},
     "output_type": "execute_result"
    }
   ],
   "source": [
    "gdp_2005.dropna().describe()"
   ]
  },
  {
   "cell_type": "code",
   "execution_count": 21,
   "metadata": {},
   "outputs": [
    {
     "name": "stderr",
     "output_type": "stream",
     "text": [
      "C:\\Users\\Sisi Florensia\\Anaconda3\\lib\\site-packages\\matplotlib\\axes\\_axes.py:6448: UserWarning: The 'normed' kwarg is deprecated, and has been replaced by the 'density' kwarg.\n",
      "  warnings.warn(\"The 'normed' kwarg is deprecated, and has been \"\n"
     ]
    },
    {
     "data": {
      "image/png": "[encoded data removed]",
      "text/plain": [
       "<Figure size 432x288 with 1 Axes>"
      ]
     },
     "metadata": {},
     "output_type": "display_data"
    }
   ],
   "source": [
    "x = gdp_2005.dropna()\n",
    "sns.distplot(x, kde=False, fit=stats.gamma);"
   ]
  },
  {
   "cell_type": "markdown",
   "metadata": {},
   "source": [
    "We can see that original data with 194 countries (out of 195 countries in the world) is very heavy on the low GDP countries. Somehow, in the data that we can use to compare with Work Hours are distributed normally.\n",
    "\n",
    "Also, we can notice that in the original data, minimum GDP is USD 92.37. While in the available data we investigate for this question is USD 4,887.37. Also, the mean from total population is USD 8,545.10 and the mean from Q1 data set that we used is USD 2,3728.09. That is a huge difference!\n",
    "\n",
    "Let's do a relative comparison on how many countries from low GDP and high GDP that were left out in Q1 analysis above, where the GDPs are lower than minimum value or higher than maximum of Q1 matched data set (with 28 countries). "
   ]
  },
  {
   "cell_type": "code",
   "execution_count": 22,
   "metadata": {},
   "outputs": [
    {
     "data": {
      "text/plain": [
       "121"
      ]
     },
     "execution_count": 22,
     "metadata": {},
     "output_type": "execute_result"
    }
   ],
   "source": [
    "# Copy the gdp_2005 series to a new series for the test. This is done so the original data set will not be modified.\n",
    "gdp_2005_test = pd.DataFrame(data=gdp_2005, dtype=np.float).round(2)\n",
    "\n",
    "# Create a new column to indicate where the gdp is less than the minimum GDP value we use for Q1. \n",
    "gdp_2005_test['lower_than_q1_gdp_min'] = np.where(gdp_2005_test<4887.37, True, False)\n",
    "\n",
    "# Count how many low income countries that have been ignored in Work Hours data set.\n",
    "gdp_2005_test['lower_than_q1_gdp_min'].sum()"
   ]
  },
  {
   "cell_type": "code",
   "execution_count": 23,
   "metadata": {},
   "outputs": [
    {
     "data": {
      "text/plain": [
       "3"
      ]
     },
     "execution_count": 23,
     "metadata": {},
     "output_type": "execute_result"
    }
   ],
   "source": [
    "# Create a new column to indicate where the gdp is higher than the maximum GDP value we use for Q1. \n",
    "gdp_2005_test['higher_than_q1_gdp_max'] = np.where(gdp_2005_test['2005']>51927.36, True, False)\n",
    "\n",
    "# Count how many low income countries that have been ignored in Work Hours data set.\n",
    "gdp_2005_test['higher_than_q1_gdp_max'].sum()"
   ]
  },
  {
   "cell_type": "code",
   "execution_count": 24,
   "metadata": {},
   "outputs": [
    {
     "data": {
      "text/html": [
       "<div>\n",
       "<style scoped>\n",
       "    .dataframe tbody tr th:only-of-type {\n",
       "        vertical-align: middle;\n",
       "    }\n",
       "\n",
       "    .dataframe tbody tr th {\n",
       "        vertical-align: top;\n",
       "    }\n",
       "\n",
       "    .dataframe thead th {\n",
       "        text-align: right;\n",
       "    }\n",
       "</style>\n",
       "<table border=\"1\" class=\"dataframe\">\n",
       "  <thead>\n",
       "    <tr style=\"text-align: right;\">\n",
       "      <th></th>\n",
       "      <th>2005</th>\n",
       "      <th>lower_than_q1_gdp_min</th>\n",
       "      <th>higher_than_q1_gdp_max</th>\n",
       "    </tr>\n",
       "    <tr>\n",
       "      <th>Country</th>\n",
       "      <th></th>\n",
       "      <th></th>\n",
       "      <th></th>\n",
       "    </tr>\n",
       "  </thead>\n",
       "  <tbody>\n",
       "    <tr>\n",
       "      <th>Albania</th>\n",
       "      <td>1525.72</td>\n",
       "      <td>True</td>\n",
       "      <td>False</td>\n",
       "    </tr>\n",
       "    <tr>\n",
       "      <th>Algeria</th>\n",
       "      <td>2115.19</td>\n",
       "      <td>True</td>\n",
       "      <td>False</td>\n",
       "    </tr>\n",
       "    <tr>\n",
       "      <th>Andorra</th>\n",
       "      <td>20737.95</td>\n",
       "      <td>False</td>\n",
       "      <td>False</td>\n",
       "    </tr>\n",
       "    <tr>\n",
       "      <th>Angola</th>\n",
       "      <td>404.27</td>\n",
       "      <td>True</td>\n",
       "      <td>False</td>\n",
       "    </tr>\n",
       "    <tr>\n",
       "      <th>Antigua and Barbuda</th>\n",
       "      <td>11102.93</td>\n",
       "      <td>False</td>\n",
       "      <td>False</td>\n",
       "    </tr>\n",
       "  </tbody>\n",
       "</table>\n",
       "</div>"
      ],
      "text/plain": [
       "                         2005  lower_than_q1_gdp_min  higher_than_q1_gdp_max\n",
       "Country                                                                     \n",
       "Albania               1525.72                   True                   False\n",
       "Algeria               2115.19                   True                   False\n",
       "Andorra              20737.95                  False                   False\n",
       "Angola                 404.27                   True                   False\n",
       "Antigua and Barbuda  11102.93                  False                   False"
      ]
     },
     "execution_count": 24,
     "metadata": {},
     "output_type": "execute_result"
    }
   ],
   "source": [
    "# Print a quick review to see if we did the classification correctly.\n",
    "gdp_2005_test.head()"
   ]
  },
  {
   "cell_type": "code",
   "execution_count": 25,
   "metadata": {},
   "outputs": [
    {
     "data": {
      "text/html": [
       "<div>\n",
       "<style scoped>\n",
       "    .dataframe tbody tr th:only-of-type {\n",
       "        vertical-align: middle;\n",
       "    }\n",
       "\n",
       "    .dataframe tbody tr th {\n",
       "        vertical-align: top;\n",
       "    }\n",
       "\n",
       "    .dataframe thead th {\n",
       "        text-align: right;\n",
       "    }\n",
       "</style>\n",
       "<table border=\"1\" class=\"dataframe\">\n",
       "  <thead>\n",
       "    <tr style=\"text-align: right;\">\n",
       "      <th></th>\n",
       "      <th>2005</th>\n",
       "      <th>lower_than_q1_gdp_min</th>\n",
       "      <th>higher_than_q1_gdp_max</th>\n",
       "    </tr>\n",
       "    <tr>\n",
       "      <th>Country</th>\n",
       "      <th></th>\n",
       "      <th></th>\n",
       "      <th></th>\n",
       "    </tr>\n",
       "  </thead>\n",
       "  <tbody>\n",
       "    <tr>\n",
       "      <th>Bermuda</th>\n",
       "      <td>62143.34</td>\n",
       "      <td>False</td>\n",
       "      <td>True</td>\n",
       "    </tr>\n",
       "    <tr>\n",
       "      <th>Liechtenstein</th>\n",
       "      <td>74525.01</td>\n",
       "      <td>False</td>\n",
       "      <td>True</td>\n",
       "    </tr>\n",
       "    <tr>\n",
       "      <th>Monaco</th>\n",
       "      <td>81827.96</td>\n",
       "      <td>False</td>\n",
       "      <td>True</td>\n",
       "    </tr>\n",
       "  </tbody>\n",
       "</table>\n",
       "</div>"
      ],
      "text/plain": [
       "                   2005  lower_than_q1_gdp_min  higher_than_q1_gdp_max\n",
       "Country                                                               \n",
       "Bermuda        62143.34                  False                    True\n",
       "Liechtenstein  74525.01                  False                    True\n",
       "Monaco         81827.96                  False                    True"
      ]
     },
     "execution_count": 25,
     "metadata": {},
     "output_type": "execute_result"
    }
   ],
   "source": [
    "# Print a quick result to see if the data makes sense.\n",
    "gdp_2005_test.loc[(gdp_2005_test['higher_than_q1_gdp_max'] == True)]"
   ]
  },
  {
   "cell_type": "markdown",
   "metadata": {},
   "source": [
    "From the comparison above, we could see that most of countries were not included in this analysis (due to data unavailability). Most of them are from low GDP countries that are below Q1 data set's range, which is 121 out of 195 countries. That's 62% of total population! While on the other side, only 3 countries from high GDP were not inside the range of Q1 data. \n",
    "\n",
    "For this reason, I don't think that the sample (Q1 data set with 28 countries) that we used even enough to represent conditions of real world. For that reason, the result from the analysis also should not represent the real condition for whole world.\n",
    "\n",
    "However, we might be able to use this analysis if we rephrase the questions. For example, \"how is correlation in between Work Hours and GDP in developed countries\"? Other option is to use better and more complete data set that measures Work Hours in all countries. These could be done in the future, outside this project."
   ]
  },
  {
   "cell_type": "markdown",
   "metadata": {},
   "source": [
    "\n",
    "\n",
    "###### Q1 Conclusion\n",
    "\n",
    "From 28 countries that we can investigate, there are some negative correlation in between GDP of countries and how many hours their people work. In countries where the GDP is higher, probably people work less hours, and vice versa. This is aligned to my inital hipothesis. \n",
    "\n",
    "The factors that may influence this negative correlation in between GDP and Work Hours may include:\n",
    "* Government regulations\n",
    "* Mature company policies and standards\n",
    "* Level of education\n",
    "* Open culture\n",
    "* Equality / Inequality\n",
    "\n",
    "It could be great to investigate these factors together in the future.\n",
    "\n",
    "Below is the graphic representation of how Work Hours and GDP correlate.\n"
   ]
  },
  {
   "cell_type": "code",
   "execution_count": 26,
   "metadata": {
    "scrolled": true
   },
   "outputs": [
    {
     "data": {
      "image/png": "[encoded data removed]",
      "text/plain": [
       "<Figure size 432x288 with 1 Axes>"
      ]
     },
     "metadata": {},
     "output_type": "display_data"
    }
   ],
   "source": [
    "# Visualising the data and correlation using scatter plot. \n",
    "# The size of the bubbles are static and not influenced by any parameter. \n",
    "N = len(q1_pd)\n",
    "x = q1_pd['Work Hours']\n",
    "y = q1_pd['GDP']\n",
    "colors = np.random.rand(N)\n",
    "area = 15  # 0 to 15 point radius. It is static.\n",
    "\n",
    "plt.scatter(x, y, s=area, c=colors, alpha=0.8)\n",
    "plt.plot(np.unique(x), np.poly1d(np.polyfit(x, y, 1))(np.unique(x)))\n",
    "plt.xlabel('Work Hours (/person/week)')\n",
    "plt.ylabel('GDP (USD/capita/year)')\n",
    "plt.title('Work Hours Vs GDP')\n",
    "plt.grid(True)\n",
    "plt.show()"
   ]
  },
  {
   "cell_type": "markdown",
   "metadata": {},
   "source": [
    "However, with most of the countries (mostly from lower GDP value) are out of range of our available data set, this analysis is missing a big picture. Without more complete data set, it cannot be presented as an analysis for the whole world in general. Although, in some aspect, this analysis still can be used to represent developed or some developing countries. \n",
    "\n",
    "Further future investigation can be done by limiting the parameters to smaller scope or by acquiring better data set. "
   ]
  },
  {
   "cell_type": "markdown",
   "metadata": {},
   "source": [
    "--------------------------------------------------------------------------------------------------------------------------------\n",
    "\n",
    "\n",
    "##### Q2: Does longer work-hours lead into higher alcohol consumption?\n",
    "\n",
    "My initial hipothesis is:\n",
    "* H0: There is some weak positive correlation in between Work Hours and alcohol consumption.\n",
    "\n",
    "Longer work hours might lead to higher level of stress, where it may trigger the needs to compesate by consuming alcohol.\n",
    "\n",
    "To analyse this question, I will use two panda series, which are Work Hours and Alcohol Consumption data from 2005. The analysis will be done using 1D data analysis approach.\n",
    "\n",
    "When a country's population works more hours than the mean, do their alcohol consumption tends to rise (or vice versa)? \n",
    "I will use the same approach and functions from question 1 (Q1), as the characteristic of the data are similar.\n",
    "\n",
    "The condition of Work Hours data set is also the same with Q1, where its data points are very limited compare to the length of data for alcohol consumption. Therefore, when alcohol_consumption serie is mapped to corresponding countries in Work Hours data set, its length will also be truncated at least equal if not less than length of Work Hours serie."
   ]
  },
  {
   "cell_type": "code",
   "execution_count": 27,
   "metadata": {},
   "outputs": [],
   "source": [
    "q2_pd = pd.concat([work_hours_2005, alcohol_consumption_2005], axis=1).dropna()\n",
    "q2_pd.columns.values[0] = 'Work Hours'\n",
    "q2_pd.columns.values[1] = 'Alcohol Consumption'\n",
    "\n",
    "q2_work_hours = q2_pd.iloc[:,0]\n",
    "q2_alcohol_consumption = q2_pd.iloc[:,1]"
   ]
  },
  {
   "cell_type": "code",
   "execution_count": 28,
   "metadata": {},
   "outputs": [
    {
     "data": {
      "text/html": [
       "<div>\n",
       "<style scoped>\n",
       "    .dataframe tbody tr th:only-of-type {\n",
       "        vertical-align: middle;\n",
       "    }\n",
       "\n",
       "    .dataframe tbody tr th {\n",
       "        vertical-align: top;\n",
       "    }\n",
       "\n",
       "    .dataframe thead th {\n",
       "        text-align: right;\n",
       "    }\n",
       "</style>\n",
       "<table border=\"1\" class=\"dataframe\">\n",
       "  <thead>\n",
       "    <tr style=\"text-align: right;\">\n",
       "      <th></th>\n",
       "      <th>Work Hours</th>\n",
       "      <th>Alcohol Consumption</th>\n",
       "    </tr>\n",
       "  </thead>\n",
       "  <tbody>\n",
       "    <tr>\n",
       "      <th>count</th>\n",
       "      <td>27.000000</td>\n",
       "      <td>27.000000</td>\n",
       "    </tr>\n",
       "    <tr>\n",
       "      <th>mean</th>\n",
       "      <td>32.914815</td>\n",
       "      <td>11.028889</td>\n",
       "    </tr>\n",
       "    <tr>\n",
       "      <th>std</th>\n",
       "      <td>3.343683</td>\n",
       "      <td>2.861368</td>\n",
       "    </tr>\n",
       "    <tr>\n",
       "      <th>min</th>\n",
       "      <td>26.440000</td>\n",
       "      <td>2.870000</td>\n",
       "    </tr>\n",
       "    <tr>\n",
       "      <th>25%</th>\n",
       "      <td>30.545000</td>\n",
       "      <td>9.695000</td>\n",
       "    </tr>\n",
       "    <tr>\n",
       "      <th>50%</th>\n",
       "      <td>33.030000</td>\n",
       "      <td>10.770000</td>\n",
       "    </tr>\n",
       "    <tr>\n",
       "      <th>75%</th>\n",
       "      <td>34.665000</td>\n",
       "      <td>13.245000</td>\n",
       "    </tr>\n",
       "    <tr>\n",
       "      <th>max</th>\n",
       "      <td>39.480000</td>\n",
       "      <td>16.270000</td>\n",
       "    </tr>\n",
       "  </tbody>\n",
       "</table>\n",
       "</div>"
      ],
      "text/plain": [
       "       Work Hours  Alcohol Consumption\n",
       "count   27.000000            27.000000\n",
       "mean    32.914815            11.028889\n",
       "std      3.343683             2.861368\n",
       "min     26.440000             2.870000\n",
       "25%     30.545000             9.695000\n",
       "50%     33.030000            10.770000\n",
       "75%     34.665000            13.245000\n",
       "max     39.480000            16.270000"
      ]
     },
     "execution_count": 28,
     "metadata": {},
     "output_type": "execute_result"
    }
   ],
   "source": [
    "q2_pd.describe()"
   ]
  },
  {
   "cell_type": "code",
   "execution_count": 29,
   "metadata": {},
   "outputs": [
    {
     "name": "stderr",
     "output_type": "stream",
     "text": [
      "C:\\Users\\Sisi Florensia\\Anaconda3\\lib\\site-packages\\matplotlib\\axes\\_axes.py:6448: UserWarning: The 'normed' kwarg is deprecated, and has been replaced by the 'density' kwarg.\n",
      "  warnings.warn(\"The 'normed' kwarg is deprecated, and has been \"\n"
     ]
    },
    {
     "data": {
      "image/png": "[encoded data removed]",
      "text/plain": [
       "<Figure size 432x288 with 1 Axes>"
      ]
     },
     "metadata": {},
     "output_type": "display_data"
    }
   ],
   "source": [
    "x = q2_work_hours\n",
    "sns.distplot(x, kde=False, fit=stats.gamma);"
   ]
  },
  {
   "cell_type": "code",
   "execution_count": 30,
   "metadata": {},
   "outputs": [
    {
     "name": "stderr",
     "output_type": "stream",
     "text": [
      "C:\\Users\\Sisi Florensia\\Anaconda3\\lib\\site-packages\\matplotlib\\axes\\_axes.py:6448: UserWarning: The 'normed' kwarg is deprecated, and has been replaced by the 'density' kwarg.\n",
      "  warnings.warn(\"The 'normed' kwarg is deprecated, and has been \"\n"
     ]
    },
    {
     "data": {
      "image/png": "[encoded data removed]",
      "text/plain": [
       "<Figure size 432x288 with 1 Axes>"
      ]
     },
     "metadata": {},
     "output_type": "display_data"
    }
   ],
   "source": [
    "x = q2_alcohol_consumption\n",
    "sns.distplot(x, kde=False, fit=stats.gamma);"
   ]
  },
  {
   "cell_type": "markdown",
   "metadata": {},
   "source": [
    "From running describe function, we could see that there are only 27 countries that are matches (instead of 30 from total data population in Work Hours). Regardless, we still have about 90% of the expected data. So the same as in Q1 analysis, based on Pareto Principle 80-20 rule, I dont think it is important to spend more time to investigate further what happened with the other 3 data points.\n",
    "\n",
    "The distribution of Work Hours data set look relatively normal. However, while Alcohol Consumption data slightly left skewed. There might be very few outliers that we need to investigate. Also, from describe function, we could see that the minimum value is 2.87 but the 25% is 9.695. This 25% value is closer to the mean than min value, and also the distance of 25% to the max value is almost as close as the distance to the min value. This does not seem right.\n",
    "\n",
    "Let's take a look at the data points on the left distribution closer."
   ]
  },
  {
   "cell_type": "code",
   "execution_count": 31,
   "metadata": {},
   "outputs": [
    {
     "data": {
      "text/plain": [
       "Australia        10.02\n",
       "Belgium          10.77\n",
       "Canada            9.77\n",
       "Greece           10.75\n",
       "Iceland           6.31\n",
       "Italy            10.68\n",
       "Japan             8.03\n",
       "Mexico            8.42\n",
       "Netherlands      10.05\n",
       "New Zealand       9.62\n",
       "Norway            7.81\n",
       "Sweden           10.10\n",
       "Turkey            2.87\n",
       "United States     9.44\n",
       "Name: Alcohol Consumption, dtype: float64"
      ]
     },
     "execution_count": 31,
     "metadata": {},
     "output_type": "execute_result"
    }
   ],
   "source": [
    "# Print data below the mean.\n",
    "q2_alcohol_consumption[(q2_alcohol_consumption <= q2_alcohol_consumption.mean())]"
   ]
  },
  {
   "cell_type": "markdown",
   "metadata": {},
   "source": [
    "From printing data above, we could see that Turkey is the only country that has value way below the others in the list. As we know, Turkey is a country that is in both Europe and Asia where majority of population (>90%) are muslim. Religion wise, in Islam, it is prohibited to drink alcohol. Therefore, this condition of low alcohol consumption maybe irrelevant to be included in this analysis where we want to see its relation to work hours, as it could be strongly afftected by religion instead (which is outside our scope of investigation) than work hours. Therefore, I will remove Turkey from our analysis.\n",
    "\n",
    "Note: To see how alcohol comsumption compares to other muslim-majority country, please see the analysis in Q2 Disclaimer section below."
   ]
  },
  {
   "cell_type": "code",
   "execution_count": 32,
   "metadata": {},
   "outputs": [],
   "source": [
    "# Removing Turkey and it's data from the Q2 data.\n",
    "q2_pd = q2_pd.drop('Turkey')\n",
    "\n",
    "# Reslicing to get new series for both indicators.\n",
    "q2_work_hours = q2_pd.iloc[:,0]\n",
    "q2_alcohol_consumption = q2_pd.iloc[:,1]"
   ]
  },
  {
   "cell_type": "code",
   "execution_count": 33,
   "metadata": {},
   "outputs": [
    {
     "data": {
      "text/html": [
       "<div>\n",
       "<style scoped>\n",
       "    .dataframe tbody tr th:only-of-type {\n",
       "        vertical-align: middle;\n",
       "    }\n",
       "\n",
       "    .dataframe tbody tr th {\n",
       "        vertical-align: top;\n",
       "    }\n",
       "\n",
       "    .dataframe thead th {\n",
       "        text-align: right;\n",
       "    }\n",
       "</style>\n",
       "<table border=\"1\" class=\"dataframe\">\n",
       "  <thead>\n",
       "    <tr style=\"text-align: right;\">\n",
       "      <th></th>\n",
       "      <th>Work Hours</th>\n",
       "      <th>Alcohol Consumption</th>\n",
       "    </tr>\n",
       "  </thead>\n",
       "  <tbody>\n",
       "    <tr>\n",
       "      <th>count</th>\n",
       "      <td>26.000000</td>\n",
       "      <td>26.000000</td>\n",
       "    </tr>\n",
       "    <tr>\n",
       "      <th>mean</th>\n",
       "      <td>32.762308</td>\n",
       "      <td>11.342692</td>\n",
       "    </tr>\n",
       "    <tr>\n",
       "      <th>std</th>\n",
       "      <td>3.312753</td>\n",
       "      <td>2.397877</td>\n",
       "    </tr>\n",
       "    <tr>\n",
       "      <th>min</th>\n",
       "      <td>26.440000</td>\n",
       "      <td>6.310000</td>\n",
       "    </tr>\n",
       "    <tr>\n",
       "      <th>25%</th>\n",
       "      <td>30.367500</td>\n",
       "      <td>9.832500</td>\n",
       "    </tr>\n",
       "    <tr>\n",
       "      <th>50%</th>\n",
       "      <td>32.630000</td>\n",
       "      <td>10.915000</td>\n",
       "    </tr>\n",
       "    <tr>\n",
       "      <th>75%</th>\n",
       "      <td>34.515000</td>\n",
       "      <td>13.247500</td>\n",
       "    </tr>\n",
       "    <tr>\n",
       "      <th>max</th>\n",
       "      <td>39.480000</td>\n",
       "      <td>16.270000</td>\n",
       "    </tr>\n",
       "  </tbody>\n",
       "</table>\n",
       "</div>"
      ],
      "text/plain": [
       "       Work Hours  Alcohol Consumption\n",
       "count   26.000000            26.000000\n",
       "mean    32.762308            11.342692\n",
       "std      3.312753             2.397877\n",
       "min     26.440000             6.310000\n",
       "25%     30.367500             9.832500\n",
       "50%     32.630000            10.915000\n",
       "75%     34.515000            13.247500\n",
       "max     39.480000            16.270000"
      ]
     },
     "execution_count": 33,
     "metadata": {},
     "output_type": "execute_result"
    }
   ],
   "source": [
    "q2_pd.describe()"
   ]
  },
  {
   "cell_type": "markdown",
   "metadata": {},
   "source": [
    "The data distribution looks better now. I will use these updated data with 26 countries for this analysis. The range of Alcohol Consumption in these countries is now 6.31 - 16.27 litres per capita per year. While the range of Work Hours is still in between 26.44 hours per week to 39.48 hours per week.\n",
    "\n",
    "Of course, since we are using the same Work Hours data set from Q1, we also have limitation caused by this data set. As in previous question's analysis, I will also do this analysis separately in Q2 Disclaimer section. \n",
    "\n",
    "First, let's see how is the correlation in between these two indicators using the function we created to analyse 1D data."
   ]
  },
  {
   "cell_type": "code",
   "execution_count": 34,
   "metadata": {},
   "outputs": [
    {
     "data": {
      "text/plain": [
       "(9, 17)"
      ]
     },
     "execution_count": 34,
     "metadata": {},
     "output_type": "execute_result"
    }
   ],
   "source": [
    "# Calculate how many countries that go to same direction and how many go their opposite way, using the function earlier.\n",
    "indicators_correlation (q2_work_hours,q2_alcohol_consumption)"
   ]
  },
  {
   "cell_type": "markdown",
   "metadata": {},
   "source": [
    "There are 9 out of 26 countries where work hours and alcohol consumption are both below or above the mean. This is about 1/3 of our data. While the rest 17 out of 26 countries where work hours and alcohol consumption level go oppposite way. This is almost 2/3 our our data.\n",
    "\n",
    "I am a bit surprised by this result. I was expecting to see some positive correlation, even though not a strong one. This result is on contrary of my initial hipothesis. Based on this result, it seems there could be some negative correlation in between these two parameters: in some countries where the Work Hours is longer, people drink less alcohol than in countries where people work less hours.\n",
    "\n",
    "Let's see what we can see from Pearson correlation value. While it is not the best way to measure correlation of two simple data series, we can just quickly run this to compare the result with correlation analysis we did before."
   ]
  },
  {
   "cell_type": "code",
   "execution_count": 35,
   "metadata": {},
   "outputs": [
    {
     "data": {
      "text/html": [
       "<div>\n",
       "<style scoped>\n",
       "    .dataframe tbody tr th:only-of-type {\n",
       "        vertical-align: middle;\n",
       "    }\n",
       "\n",
       "    .dataframe tbody tr th {\n",
       "        vertical-align: top;\n",
       "    }\n",
       "\n",
       "    .dataframe thead th {\n",
       "        text-align: right;\n",
       "    }\n",
       "</style>\n",
       "<table border=\"1\" class=\"dataframe\">\n",
       "  <thead>\n",
       "    <tr style=\"text-align: right;\">\n",
       "      <th></th>\n",
       "      <th>Work Hours</th>\n",
       "      <th>Alcohol Consumption</th>\n",
       "    </tr>\n",
       "  </thead>\n",
       "  <tbody>\n",
       "    <tr>\n",
       "      <th>Work Hours</th>\n",
       "      <td>1.000000</td>\n",
       "      <td>0.019864</td>\n",
       "    </tr>\n",
       "    <tr>\n",
       "      <th>Alcohol Consumption</th>\n",
       "      <td>0.019864</td>\n",
       "      <td>1.000000</td>\n",
       "    </tr>\n",
       "  </tbody>\n",
       "</table>\n",
       "</div>"
      ],
      "text/plain": [
       "                     Work Hours  Alcohol Consumption\n",
       "Work Hours             1.000000             0.019864\n",
       "Alcohol Consumption    0.019864             1.000000"
      ]
     },
     "execution_count": 35,
     "metadata": {},
     "output_type": "execute_result"
    }
   ],
   "source": [
    "q2_pd.corr()"
   ]
  },
  {
   "cell_type": "markdown",
   "metadata": {},
   "source": [
    "The Pearson value is showing almost no correlation in between two indicators. However, if there's any, it shows a very weak positive correlation. This doesn't aligned with the result of indicators_correlation nor to my initial hipothesis."
   ]
  },
  {
   "cell_type": "markdown",
   "metadata": {},
   "source": [
    "###### Q2 Disclaimer:\n",
    "During the process to map countries in Alcohol Consumption data to available countries in Work Hours data, we lost quite a lot of data points. Let's take a look whether at least the ones that we have can represent similar distribution."
   ]
  },
  {
   "cell_type": "code",
   "execution_count": 36,
   "metadata": {},
   "outputs": [
    {
     "data": {
      "text/plain": [
       "count    188.000000\n",
       "mean       6.540851\n",
       "std        4.628977\n",
       "min        0.020000\n",
       "25%        2.582500\n",
       "50%        5.990000\n",
       "75%        9.777500\n",
       "max       18.280000\n",
       "Name: 2005, dtype: float64"
      ]
     },
     "execution_count": 36,
     "metadata": {},
     "output_type": "execute_result"
    }
   ],
   "source": [
    "alcohol_consumption_2005.dropna().describe()"
   ]
  },
  {
   "cell_type": "code",
   "execution_count": 37,
   "metadata": {},
   "outputs": [
    {
     "name": "stderr",
     "output_type": "stream",
     "text": [
      "C:\\Users\\Sisi Florensia\\Anaconda3\\lib\\site-packages\\matplotlib\\axes\\_axes.py:6448: UserWarning: The 'normed' kwarg is deprecated, and has been replaced by the 'density' kwarg.\n",
      "  warnings.warn(\"The 'normed' kwarg is deprecated, and has been \"\n"
     ]
    },
    {
     "data": {
      "image/png": "[encoded data removed]",
      "text/plain": [
       "<Figure size 432x288 with 1 Axes>"
      ]
     },
     "metadata": {},
     "output_type": "display_data"
    }
   ],
   "source": [
    "x = alcohol_consumption_2005.dropna()\n",
    "sns.distplot(x, kde=False, fit=stats.gamma);"
   ]
  },
  {
   "cell_type": "markdown",
   "metadata": {},
   "source": [
    "Almost like the case with countries in GDP data previously, we can see that original data with 194 countries (out of 195 countries in the world) is quite heavy on countries with low alcohol_consumption. Somehow, in the data that we can use to compare with Work Hours, Alcohol consumption data is distributed normally.\n",
    "\n",
    "Although, the range of data that were ignored may not be as big as in the previous analysis in Q1, some significant range of data are still not included. Minimum alcohol consumption in original data is 0.02 litres, while minimum value in the data we can use in Q2 analysis is 2.87 litres. On the other side, maximum alcohol consumption from total population is 18.28 litres and the maximum value from Q2 analysis is 16.27 litres. Relatively to width spread of data range in both, these numbers don't look so extreme. \n",
    "\n",
    "However, the difference in mean values between both data sets is quite significant. The mean from total population is 6.54 litres, and the mean from the Q2 data set (the one with 27 countries) is 11.02 litres. \n",
    "\n",
    "Let's do a relative comparison on how many countries with low and high alcohol consumption that were left out in Q2 analysis above, where the consumptions are lower than minimum value or higher than maximum of Q2 matched data set (the one with 27 countries). "
   ]
  },
  {
   "cell_type": "code",
   "execution_count": 38,
   "metadata": {},
   "outputs": [
    {
     "data": {
      "text/plain": [
       "48"
      ]
     },
     "execution_count": 38,
     "metadata": {},
     "output_type": "execute_result"
    }
   ],
   "source": [
    "# Copy the alcohol_consumption_2005 series to a new series for the test. \n",
    "# This is done so the original data set will not be modified.\n",
    "alcohol_consumption_2005_test = pd.DataFrame(data=alcohol_consumption_2005, dtype=np.float).round(2)\n",
    "\n",
    "# Create a new column to indicate where the alcohol consumption is less than the minimum consumption value we use for Q2. \n",
    "alcohol_consumption_2005_test['lower_than_q2_alc_consm_min'] = np.where(alcohol_consumption_2005_test<2.87, True, False)\n",
    "\n",
    "# Count how many countries with low alcohol consumption have been ignored by merging with Work Hours data set.\n",
    "alcohol_consumption_2005_test['lower_than_q2_alc_consm_min'].sum()"
   ]
  },
  {
   "cell_type": "code",
   "execution_count": 39,
   "metadata": {},
   "outputs": [
    {
     "data": {
      "text/plain": [
       "3"
      ]
     },
     "execution_count": 39,
     "metadata": {},
     "output_type": "execute_result"
    }
   ],
   "source": [
    "# Create a new column to indicate where the gdp is higher than the maximum GDP value we use for Q1. \n",
    "alcohol_consumption_2005_test['higher_than_q2_alc_consm_max'] = np.where(alcohol_consumption_2005_test['2005']>16.27, True, False)\n",
    "\n",
    "# Count how many low income countries that have been ignored in Work Hours data set.\n",
    "alcohol_consumption_2005_test['higher_than_q2_alc_consm_max'].sum()"
   ]
  },
  {
   "cell_type": "code",
   "execution_count": 40,
   "metadata": {},
   "outputs": [
    {
     "data": {
      "text/html": [
       "<div>\n",
       "<style scoped>\n",
       "    .dataframe tbody tr th:only-of-type {\n",
       "        vertical-align: middle;\n",
       "    }\n",
       "\n",
       "    .dataframe tbody tr th {\n",
       "        vertical-align: top;\n",
       "    }\n",
       "\n",
       "    .dataframe thead th {\n",
       "        text-align: right;\n",
       "    }\n",
       "</style>\n",
       "<table border=\"1\" class=\"dataframe\">\n",
       "  <thead>\n",
       "    <tr style=\"text-align: right;\">\n",
       "      <th></th>\n",
       "      <th>2005</th>\n",
       "      <th>lower_than_q2_alc_consm_min</th>\n",
       "      <th>higher_than_q2_alc_consm_max</th>\n",
       "    </tr>\n",
       "    <tr>\n",
       "      <th>Country</th>\n",
       "      <th></th>\n",
       "      <th></th>\n",
       "      <th></th>\n",
       "    </tr>\n",
       "  </thead>\n",
       "  <tbody>\n",
       "    <tr>\n",
       "      <th>Afghanistan</th>\n",
       "      <td>0.02</td>\n",
       "      <td>True</td>\n",
       "      <td>False</td>\n",
       "    </tr>\n",
       "    <tr>\n",
       "      <th>Albania</th>\n",
       "      <td>6.68</td>\n",
       "      <td>False</td>\n",
       "      <td>False</td>\n",
       "    </tr>\n",
       "    <tr>\n",
       "      <th>Algeria</th>\n",
       "      <td>0.96</td>\n",
       "      <td>True</td>\n",
       "      <td>False</td>\n",
       "    </tr>\n",
       "    <tr>\n",
       "      <th>Andorra</th>\n",
       "      <td>15.48</td>\n",
       "      <td>False</td>\n",
       "      <td>False</td>\n",
       "    </tr>\n",
       "    <tr>\n",
       "      <th>Angola</th>\n",
       "      <td>5.40</td>\n",
       "      <td>False</td>\n",
       "      <td>False</td>\n",
       "    </tr>\n",
       "  </tbody>\n",
       "</table>\n",
       "</div>"
      ],
      "text/plain": [
       "              2005  lower_than_q2_alc_consm_min  higher_than_q2_alc_consm_max\n",
       "Country                                                                      \n",
       "Afghanistan   0.02                         True                         False\n",
       "Albania       6.68                        False                         False\n",
       "Algeria       0.96                         True                         False\n",
       "Andorra      15.48                        False                         False\n",
       "Angola        5.40                        False                         False"
      ]
     },
     "execution_count": 40,
     "metadata": {},
     "output_type": "execute_result"
    }
   ],
   "source": [
    "# Print a quick review to see if we did the classification correctly.\n",
    "alcohol_consumption_2005_test.head()"
   ]
  },
  {
   "cell_type": "code",
   "execution_count": 41,
   "metadata": {},
   "outputs": [
    {
     "data": {
      "text/html": [
       "<div>\n",
       "<style scoped>\n",
       "    .dataframe tbody tr th:only-of-type {\n",
       "        vertical-align: middle;\n",
       "    }\n",
       "\n",
       "    .dataframe tbody tr th {\n",
       "        vertical-align: top;\n",
       "    }\n",
       "\n",
       "    .dataframe thead th {\n",
       "        text-align: right;\n",
       "    }\n",
       "</style>\n",
       "<table border=\"1\" class=\"dataframe\">\n",
       "  <thead>\n",
       "    <tr style=\"text-align: right;\">\n",
       "      <th></th>\n",
       "      <th>2005</th>\n",
       "      <th>lower_than_q2_alc_consm_min</th>\n",
       "      <th>higher_than_q2_alc_consm_max</th>\n",
       "    </tr>\n",
       "    <tr>\n",
       "      <th>Country</th>\n",
       "      <th></th>\n",
       "      <th></th>\n",
       "      <th></th>\n",
       "    </tr>\n",
       "  </thead>\n",
       "  <tbody>\n",
       "    <tr>\n",
       "      <th>Afghanistan</th>\n",
       "      <td>0.02</td>\n",
       "      <td>True</td>\n",
       "      <td>False</td>\n",
       "    </tr>\n",
       "    <tr>\n",
       "      <th>Algeria</th>\n",
       "      <td>0.96</td>\n",
       "      <td>True</td>\n",
       "      <td>False</td>\n",
       "    </tr>\n",
       "    <tr>\n",
       "      <th>Bangladesh</th>\n",
       "      <td>0.17</td>\n",
       "      <td>True</td>\n",
       "      <td>False</td>\n",
       "    </tr>\n",
       "    <tr>\n",
       "      <th>Benin</th>\n",
       "      <td>2.15</td>\n",
       "      <td>True</td>\n",
       "      <td>False</td>\n",
       "    </tr>\n",
       "    <tr>\n",
       "      <th>Bhutan</th>\n",
       "      <td>0.55</td>\n",
       "      <td>True</td>\n",
       "      <td>False</td>\n",
       "    </tr>\n",
       "    <tr>\n",
       "      <th>Brunei</th>\n",
       "      <td>2.01</td>\n",
       "      <td>True</td>\n",
       "      <td>False</td>\n",
       "    </tr>\n",
       "    <tr>\n",
       "      <th>Comoros</th>\n",
       "      <td>0.36</td>\n",
       "      <td>True</td>\n",
       "      <td>False</td>\n",
       "    </tr>\n",
       "    <tr>\n",
       "      <th>Djibouti</th>\n",
       "      <td>1.87</td>\n",
       "      <td>True</td>\n",
       "      <td>False</td>\n",
       "    </tr>\n",
       "    <tr>\n",
       "      <th>Egypt</th>\n",
       "      <td>0.37</td>\n",
       "      <td>True</td>\n",
       "      <td>False</td>\n",
       "    </tr>\n",
       "    <tr>\n",
       "      <th>Eritrea</th>\n",
       "      <td>1.54</td>\n",
       "      <td>True</td>\n",
       "      <td>False</td>\n",
       "    </tr>\n",
       "    <tr>\n",
       "      <th>Fiji</th>\n",
       "      <td>2.43</td>\n",
       "      <td>True</td>\n",
       "      <td>False</td>\n",
       "    </tr>\n",
       "    <tr>\n",
       "      <th>Guinea</th>\n",
       "      <td>0.76</td>\n",
       "      <td>True</td>\n",
       "      <td>False</td>\n",
       "    </tr>\n",
       "    <tr>\n",
       "      <th>India</th>\n",
       "      <td>2.59</td>\n",
       "      <td>True</td>\n",
       "      <td>False</td>\n",
       "    </tr>\n",
       "    <tr>\n",
       "      <th>Indonesia</th>\n",
       "      <td>0.59</td>\n",
       "      <td>True</td>\n",
       "      <td>False</td>\n",
       "    </tr>\n",
       "    <tr>\n",
       "      <th>Iran</th>\n",
       "      <td>1.02</td>\n",
       "      <td>True</td>\n",
       "      <td>False</td>\n",
       "    </tr>\n",
       "    <tr>\n",
       "      <th>Iraq</th>\n",
       "      <td>0.40</td>\n",
       "      <td>True</td>\n",
       "      <td>False</td>\n",
       "    </tr>\n",
       "    <tr>\n",
       "      <th>Jordan</th>\n",
       "      <td>0.71</td>\n",
       "      <td>True</td>\n",
       "      <td>False</td>\n",
       "    </tr>\n",
       "    <tr>\n",
       "      <th>Kuwait</th>\n",
       "      <td>0.10</td>\n",
       "      <td>True</td>\n",
       "      <td>False</td>\n",
       "    </tr>\n",
       "    <tr>\n",
       "      <th>Lebanon</th>\n",
       "      <td>2.23</td>\n",
       "      <td>True</td>\n",
       "      <td>False</td>\n",
       "    </tr>\n",
       "    <tr>\n",
       "      <th>Libya</th>\n",
       "      <td>0.11</td>\n",
       "      <td>True</td>\n",
       "      <td>False</td>\n",
       "    </tr>\n",
       "    <tr>\n",
       "      <th>Madagascar</th>\n",
       "      <td>1.33</td>\n",
       "      <td>True</td>\n",
       "      <td>False</td>\n",
       "    </tr>\n",
       "    <tr>\n",
       "      <th>Malawi</th>\n",
       "      <td>1.74</td>\n",
       "      <td>True</td>\n",
       "      <td>False</td>\n",
       "    </tr>\n",
       "    <tr>\n",
       "      <th>Malaysia</th>\n",
       "      <td>0.82</td>\n",
       "      <td>True</td>\n",
       "      <td>False</td>\n",
       "    </tr>\n",
       "    <tr>\n",
       "      <th>Mali</th>\n",
       "      <td>1.04</td>\n",
       "      <td>True</td>\n",
       "      <td>False</td>\n",
       "    </tr>\n",
       "    <tr>\n",
       "      <th>Mauritania</th>\n",
       "      <td>0.11</td>\n",
       "      <td>True</td>\n",
       "      <td>False</td>\n",
       "    </tr>\n",
       "    <tr>\n",
       "      <th>Morocco</th>\n",
       "      <td>1.46</td>\n",
       "      <td>True</td>\n",
       "      <td>False</td>\n",
       "    </tr>\n",
       "    <tr>\n",
       "      <th>Mozambique</th>\n",
       "      <td>2.38</td>\n",
       "      <td>True</td>\n",
       "      <td>False</td>\n",
       "    </tr>\n",
       "    <tr>\n",
       "      <th>Myanmar [Burma]</th>\n",
       "      <td>0.57</td>\n",
       "      <td>True</td>\n",
       "      <td>False</td>\n",
       "    </tr>\n",
       "    <tr>\n",
       "      <th>Nepal</th>\n",
       "      <td>2.41</td>\n",
       "      <td>True</td>\n",
       "      <td>False</td>\n",
       "    </tr>\n",
       "    <tr>\n",
       "      <th>Niger</th>\n",
       "      <td>0.34</td>\n",
       "      <td>True</td>\n",
       "      <td>False</td>\n",
       "    </tr>\n",
       "    <tr>\n",
       "      <th>Oman</th>\n",
       "      <td>0.94</td>\n",
       "      <td>True</td>\n",
       "      <td>False</td>\n",
       "    </tr>\n",
       "    <tr>\n",
       "      <th>Pakistan</th>\n",
       "      <td>0.06</td>\n",
       "      <td>True</td>\n",
       "      <td>False</td>\n",
       "    </tr>\n",
       "    <tr>\n",
       "      <th>Qatar</th>\n",
       "      <td>1.25</td>\n",
       "      <td>True</td>\n",
       "      <td>False</td>\n",
       "    </tr>\n",
       "    <tr>\n",
       "      <th>Saudi Arabia</th>\n",
       "      <td>0.25</td>\n",
       "      <td>True</td>\n",
       "      <td>False</td>\n",
       "    </tr>\n",
       "    <tr>\n",
       "      <th>Senegal</th>\n",
       "      <td>0.60</td>\n",
       "      <td>True</td>\n",
       "      <td>False</td>\n",
       "    </tr>\n",
       "    <tr>\n",
       "      <th>Singapore</th>\n",
       "      <td>1.55</td>\n",
       "      <td>True</td>\n",
       "      <td>False</td>\n",
       "    </tr>\n",
       "    <tr>\n",
       "      <th>Solomon Islands</th>\n",
       "      <td>1.66</td>\n",
       "      <td>True</td>\n",
       "      <td>False</td>\n",
       "    </tr>\n",
       "    <tr>\n",
       "      <th>Somalia</th>\n",
       "      <td>0.50</td>\n",
       "      <td>True</td>\n",
       "      <td>False</td>\n",
       "    </tr>\n",
       "    <tr>\n",
       "      <th>Sri Lanka</th>\n",
       "      <td>0.79</td>\n",
       "      <td>True</td>\n",
       "      <td>False</td>\n",
       "    </tr>\n",
       "    <tr>\n",
       "      <th>Sudan</th>\n",
       "      <td>2.56</td>\n",
       "      <td>True</td>\n",
       "      <td>False</td>\n",
       "    </tr>\n",
       "    <tr>\n",
       "      <th>Syria</th>\n",
       "      <td>1.43</td>\n",
       "      <td>True</td>\n",
       "      <td>False</td>\n",
       "    </tr>\n",
       "    <tr>\n",
       "      <th>Timor-Leste</th>\n",
       "      <td>0.86</td>\n",
       "      <td>True</td>\n",
       "      <td>False</td>\n",
       "    </tr>\n",
       "    <tr>\n",
       "      <th>Togo</th>\n",
       "      <td>1.99</td>\n",
       "      <td>True</td>\n",
       "      <td>False</td>\n",
       "    </tr>\n",
       "    <tr>\n",
       "      <th>Tunisia</th>\n",
       "      <td>1.29</td>\n",
       "      <td>True</td>\n",
       "      <td>False</td>\n",
       "    </tr>\n",
       "    <tr>\n",
       "      <th>Tuvalu</th>\n",
       "      <td>2.44</td>\n",
       "      <td>True</td>\n",
       "      <td>False</td>\n",
       "    </tr>\n",
       "    <tr>\n",
       "      <th>United Arab Emirates</th>\n",
       "      <td>0.54</td>\n",
       "      <td>True</td>\n",
       "      <td>False</td>\n",
       "    </tr>\n",
       "    <tr>\n",
       "      <th>Vanuatu</th>\n",
       "      <td>0.93</td>\n",
       "      <td>True</td>\n",
       "      <td>False</td>\n",
       "    </tr>\n",
       "    <tr>\n",
       "      <th>Yemen</th>\n",
       "      <td>0.20</td>\n",
       "      <td>True</td>\n",
       "      <td>False</td>\n",
       "    </tr>\n",
       "  </tbody>\n",
       "</table>\n",
       "</div>"
      ],
      "text/plain": [
       "                      2005  lower_than_q2_alc_consm_min  \\\n",
       "Country                                                   \n",
       "Afghanistan           0.02                         True   \n",
       "Algeria               0.96                         True   \n",
       "Bangladesh            0.17                         True   \n",
       "Benin                 2.15                         True   \n",
       "Bhutan                0.55                         True   \n",
       "Brunei                2.01                         True   \n",
       "Comoros               0.36                         True   \n",
       "Djibouti              1.87                         True   \n",
       "Egypt                 0.37                         True   \n",
       "Eritrea               1.54                         True   \n",
       "Fiji                  2.43                         True   \n",
       "Guinea                0.76                         True   \n",
       "India                 2.59                         True   \n",
       "Indonesia             0.59                         True   \n",
       "Iran                  1.02                         True   \n",
       "Iraq                  0.40                         True   \n",
       "Jordan                0.71                         True   \n",
       "Kuwait                0.10                         True   \n",
       "Lebanon               2.23                         True   \n",
       "Libya                 0.11                         True   \n",
       "Madagascar            1.33                         True   \n",
       "Malawi                1.74                         True   \n",
       "Malaysia              0.82                         True   \n",
       "Mali                  1.04                         True   \n",
       "Mauritania            0.11                         True   \n",
       "Morocco               1.46                         True   \n",
       "Mozambique            2.38                         True   \n",
       "Myanmar [Burma]       0.57                         True   \n",
       "Nepal                 2.41                         True   \n",
       "Niger                 0.34                         True   \n",
       "Oman                  0.94                         True   \n",
       "Pakistan              0.06                         True   \n",
       "Qatar                 1.25                         True   \n",
       "Saudi Arabia          0.25                         True   \n",
       "Senegal               0.60                         True   \n",
       "Singapore             1.55                         True   \n",
       "Solomon Islands       1.66                         True   \n",
       "Somalia               0.50                         True   \n",
       "Sri Lanka             0.79                         True   \n",
       "Sudan                 2.56                         True   \n",
       "Syria                 1.43                         True   \n",
       "Timor-Leste           0.86                         True   \n",
       "Togo                  1.99                         True   \n",
       "Tunisia               1.29                         True   \n",
       "Tuvalu                2.44                         True   \n",
       "United Arab Emirates  0.54                         True   \n",
       "Vanuatu               0.93                         True   \n",
       "Yemen                 0.20                         True   \n",
       "\n",
       "                      higher_than_q2_alc_consm_max  \n",
       "Country                                             \n",
       "Afghanistan                                  False  \n",
       "Algeria                                      False  \n",
       "Bangladesh                                   False  \n",
       "Benin                                        False  \n",
       "Bhutan                                       False  \n",
       "Brunei                                       False  \n",
       "Comoros                                      False  \n",
       "Djibouti                                     False  \n",
       "Egypt                                        False  \n",
       "Eritrea                                      False  \n",
       "Fiji                                         False  \n",
       "Guinea                                       False  \n",
       "India                                        False  \n",
       "Indonesia                                    False  \n",
       "Iran                                         False  \n",
       "Iraq                                         False  \n",
       "Jordan                                       False  \n",
       "Kuwait                                       False  \n",
       "Lebanon                                      False  \n",
       "Libya                                        False  \n",
       "Madagascar                                   False  \n",
       "Malawi                                       False  \n",
       "Malaysia                                     False  \n",
       "Mali                                         False  \n",
       "Mauritania                                   False  \n",
       "Morocco                                      False  \n",
       "Mozambique                                   False  \n",
       "Myanmar [Burma]                              False  \n",
       "Nepal                                        False  \n",
       "Niger                                        False  \n",
       "Oman                                         False  \n",
       "Pakistan                                     False  \n",
       "Qatar                                        False  \n",
       "Saudi Arabia                                 False  \n",
       "Senegal                                      False  \n",
       "Singapore                                    False  \n",
       "Solomon Islands                              False  \n",
       "Somalia                                      False  \n",
       "Sri Lanka                                    False  \n",
       "Sudan                                        False  \n",
       "Syria                                        False  \n",
       "Timor-Leste                                  False  \n",
       "Togo                                         False  \n",
       "Tunisia                                      False  \n",
       "Tuvalu                                       False  \n",
       "United Arab Emirates                         False  \n",
       "Vanuatu                                      False  \n",
       "Yemen                                        False  "
      ]
     },
     "execution_count": 41,
     "metadata": {},
     "output_type": "execute_result"
    }
   ],
   "source": [
    "# Print a quick result to see if there is a notable pattern in the country that were excluded \n",
    "# due to minimum alcohol consumption.\n",
    "alcohol_consumption_2005_test.loc[(alcohol_consumption_2005_test['lower_than_q2_alc_consm_min'] == True)]"
   ]
  },
  {
   "cell_type": "code",
   "execution_count": 42,
   "metadata": {},
   "outputs": [
    {
     "data": {
      "text/html": [
       "<div>\n",
       "<style scoped>\n",
       "    .dataframe tbody tr th:only-of-type {\n",
       "        vertical-align: middle;\n",
       "    }\n",
       "\n",
       "    .dataframe tbody tr th {\n",
       "        vertical-align: top;\n",
       "    }\n",
       "\n",
       "    .dataframe thead th {\n",
       "        text-align: right;\n",
       "    }\n",
       "</style>\n",
       "<table border=\"1\" class=\"dataframe\">\n",
       "  <thead>\n",
       "    <tr style=\"text-align: right;\">\n",
       "      <th></th>\n",
       "      <th>2005</th>\n",
       "      <th>lower_than_q2_alc_consm_min</th>\n",
       "      <th>higher_than_q2_alc_consm_max</th>\n",
       "    </tr>\n",
       "    <tr>\n",
       "      <th>Country</th>\n",
       "      <th></th>\n",
       "      <th></th>\n",
       "      <th></th>\n",
       "    </tr>\n",
       "  </thead>\n",
       "  <tbody>\n",
       "    <tr>\n",
       "      <th>Czech Republic</th>\n",
       "      <td>16.45</td>\n",
       "      <td>False</td>\n",
       "      <td>True</td>\n",
       "    </tr>\n",
       "    <tr>\n",
       "      <th>Moldova</th>\n",
       "      <td>18.22</td>\n",
       "      <td>False</td>\n",
       "      <td>True</td>\n",
       "    </tr>\n",
       "    <tr>\n",
       "      <th>North Korea</th>\n",
       "      <td>18.28</td>\n",
       "      <td>False</td>\n",
       "      <td>True</td>\n",
       "    </tr>\n",
       "  </tbody>\n",
       "</table>\n",
       "</div>"
      ],
      "text/plain": [
       "                 2005  lower_than_q2_alc_consm_min  \\\n",
       "Country                                              \n",
       "Czech Republic  16.45                        False   \n",
       "Moldova         18.22                        False   \n",
       "North Korea     18.28                        False   \n",
       "\n",
       "                higher_than_q2_alc_consm_max  \n",
       "Country                                       \n",
       "Czech Republic                          True  \n",
       "Moldova                                 True  \n",
       "North Korea                             True  "
      ]
     },
     "execution_count": 42,
     "metadata": {},
     "output_type": "execute_result"
    }
   ],
   "source": [
    "# Print a quick result to see if the data makes sense.\n",
    "alcohol_consumption_2005_test.loc[(alcohol_consumption_2005_test['higher_than_q2_alc_consm_max'] == True)]"
   ]
  },
  {
   "cell_type": "markdown",
   "metadata": {},
   "source": [
    "From the comparison above, we could see that most of countries were not included in this analysis (due to data unavailability). Like Turkey (in our analysis above), most of them are from muslim-majority countries with low alcohol consumption that are below Q2 data set's range, which is 48 out of 195 countries. That's about 24.6% of total number of countries population. Although in this case, I would agree to exclude these countries from current analysis, as most likely the important factor that causes their low alcohol consumptions sre restrictions in religion and culture. This requires more in-depth analysis than just comparing it to work hours in this Q2 question. \n",
    "\n",
    "While on the other side, only 3 countries from high alcohol consumption were not inside the range of Q2 data. It doesn't look like it is a big issue. \n",
    "\n",
    "For this reason, I think if we apply limitation by excluding muslim majority countries, the sample of alcohol consumption data (Q2 data set with 27 countries) could be use as a sample to represent conditions in general. However, as coverage of areas in  Work Hours data is quite narrow for developed countries, this could be the limitation in our analysis to represent the real situation. For that reason, the result from the analysis could be used in some cases, but not to represent the real condition for whole world.\n",
    "\n",
    "However, we might be able to use this analysis if we rephrase the questions. For example, \"how is correlation in between Work Hours and alcohol in developed and non-muslim majority countries\"? Other option is to use better and more complete data set that measures Work Hours in all countries, though the exclusion of muslim-majority countries may still need to be applied. These could be done in the future, outside this project."
   ]
  },
  {
   "cell_type": "markdown",
   "metadata": {},
   "source": [
    "\n",
    "\n",
    "###### Q2 Conclusion\n",
    "\n",
    "From 26 countries that we can investigate, there is not enough data nor pattern to support any final conclusion. Results of these analysis also contradicting each other's. \n",
    "\n",
    "* The result from indicators correlation function, where it compares the direction of both data is going, shows weak negative correlation.\n",
    "* The result from Pearson shows very weak positive correlation.\n",
    "* If I see the scatter plot below, they are pretty even. However, there are slightly visible data where on the extreme side of countries with long work hours tends to have alcohol consumption near the mean and above. Also, on the extreme side of countries with least work hours tends to have alcohol consumption near the mean and below."
   ]
  },
  {
   "cell_type": "code",
   "execution_count": 43,
   "metadata": {},
   "outputs": [
    {
     "data": {
      "image/png": "[encoded data removed]",
      "text/plain": [
       "<Figure size 432x288 with 1 Axes>"
      ]
     },
     "metadata": {},
     "output_type": "display_data"
    }
   ],
   "source": [
    "# Visualising the data and correlation using scatter plot. \n",
    "# The size of the bubbles are static and not influenced by any parameter. \n",
    "N = len(q2_pd)\n",
    "x = q2_pd['Work Hours']\n",
    "y = q2_pd['Alcohol Consumption']\n",
    "colors = np.random.rand(N)\n",
    "area = 15  # 0 to 15 point radius. This is static.\n",
    "\n",
    "plt.scatter(x, y, s=area, c=colors, alpha=0.8)\n",
    "plt.plot(np.unique(x), np.poly1d(np.polyfit(x, y, 1))(np.unique(x)))\n",
    "plt.xlabel('Work Hours (per person/week)')\n",
    "plt.ylabel('Alcohol Consumption (litres/capita)')\n",
    "plt.title('Work Hours Vs Alcohol Consumption')\n",
    "plt.grid(True)\n",
    "plt.show()"
   ]
  },
  {
   "cell_type": "markdown",
   "metadata": {},
   "source": [
    "I think this question needs to be answer with broader data sets of Work Hours from more countries.\n",
    "\n",
    "At this point, my hipothesis for subsequent analysis will be:\n",
    "\"There is a positive correlation on how work hours affect alcohol consumption in countries where work hours is extremely low or extremely high, which both leading to higher stress level. There is very weak correlation to none in countries where the working hours is quite balance around 30-36 hours/week*.\"\n",
    "\n",
    "*There is a lot of company and countries these days that moving into implementing work hours per week within this range, as it might be the most optimal and productive range (eg. Amazon). Even though, I will not provide further research or facts to support that argument in this project (as the hipothesis is also for future project outside this one)."
   ]
  },
  {
   "cell_type": "markdown",
   "metadata": {},
   "source": [
    "--------------------------------------------------------------------------------------------------------------------------------\n",
    "\n",
    "\n",
    "##### Q3: Is there any correlation in between alcohol consumption and food consumption?\n",
    "\n",
    "My initial hipothesis is: \n",
    "* H0: There is some negative correlation in between alcohol consumption and food consumption. Culturally wise, I've heard some countries tend to spend their social life over the food and some over the drinks.\n",
    "\n",
    "Let's see what is the actual meaning of this expression.\n",
    "\n",
    "To analyse this question, I will use two panda series, which are Alcohol Consumption and Food Consumption data from 2005. The analysis will be done using 1D data analysis approach.\n",
    "\n",
    "When a country's population likes to drink alcohol, does it mean they will consume more alcohol instead of consuming more food? (or vice versa)? I will use the same approach and functions from question 1 (Q1), as the characteristic of the data are similar.\n",
    "\n",
    "Since we are no longer using Work Hours data set, there will be more data points available in these two data sets than previous comparisons. It will represent more of the total population (out of those 195 countries) than just samples. Although, there might be a case where data for some countries are not available or no pairing data of the countries in the other serie. In this case, we need to remove these countries from the list and only use available data.\n",
    "\n",
    "The rest of the approach will be done similarly in between two series as done in previous analysis for Q1 and Q2."
   ]
  },
  {
   "cell_type": "code",
   "execution_count": 44,
   "metadata": {},
   "outputs": [
    {
     "data": {
      "text/plain": [
       "count     176.000000\n",
       "mean     2728.969034\n",
       "std       503.555286\n",
       "min      1566.410000\n",
       "25%      2292.922500\n",
       "50%      2738.990000\n",
       "75%      3094.857500\n",
       "max      3795.800000\n",
       "Name: 2005, dtype: float64"
      ]
     },
     "execution_count": 44,
     "metadata": {},
     "output_type": "execute_result"
    }
   ],
   "source": [
    "# Printing statistic properties of this serie before being processed further.\n",
    "food_consumption_2005.describe()"
   ]
  },
  {
   "cell_type": "code",
   "execution_count": 45,
   "metadata": {},
   "outputs": [
    {
     "data": {
      "text/plain": [
       "count    188.000000\n",
       "mean       6.540851\n",
       "std        4.628977\n",
       "min        0.020000\n",
       "25%        2.582500\n",
       "50%        5.990000\n",
       "75%        9.777500\n",
       "max       18.280000\n",
       "Name: 2005, dtype: float64"
      ]
     },
     "execution_count": 45,
     "metadata": {},
     "output_type": "execute_result"
    }
   ],
   "source": [
    "# Printing statistic properties of this serie before being processed further.\n",
    "alcohol_consumption_2005.describe()"
   ]
  },
  {
   "cell_type": "code",
   "execution_count": 46,
   "metadata": {},
   "outputs": [],
   "source": [
    "# Only taking data for countries that have usable data in both series. \n",
    "q3_pd = pd.concat([food_consumption_2005, alcohol_consumption_2005], axis=1).dropna()\n",
    "q3_pd.columns.values[0] = 'Food Consumption'\n",
    "q3_pd.columns.values[1] = 'Alcohol Consumption'\n",
    "\n",
    "q3_food_consumption = q3_pd.iloc[:,0]\n",
    "q3_alcohol_consumption = q3_pd.iloc[:,1]"
   ]
  },
  {
   "cell_type": "code",
   "execution_count": 47,
   "metadata": {},
   "outputs": [
    {
     "data": {
      "text/html": [
       "<div>\n",
       "<style scoped>\n",
       "    .dataframe tbody tr th:only-of-type {\n",
       "        vertical-align: middle;\n",
       "    }\n",
       "\n",
       "    .dataframe tbody tr th {\n",
       "        vertical-align: top;\n",
       "    }\n",
       "\n",
       "    .dataframe thead th {\n",
       "        text-align: right;\n",
       "    }\n",
       "</style>\n",
       "<table border=\"1\" class=\"dataframe\">\n",
       "  <thead>\n",
       "    <tr style=\"text-align: right;\">\n",
       "      <th></th>\n",
       "      <th>Food Consumption</th>\n",
       "      <th>Alcohol Consumption</th>\n",
       "    </tr>\n",
       "  </thead>\n",
       "  <tbody>\n",
       "    <tr>\n",
       "      <th>count</th>\n",
       "      <td>158.000000</td>\n",
       "      <td>158.000000</td>\n",
       "    </tr>\n",
       "    <tr>\n",
       "      <th>mean</th>\n",
       "      <td>2750.741076</td>\n",
       "      <td>6.734937</td>\n",
       "    </tr>\n",
       "    <tr>\n",
       "      <th>std</th>\n",
       "      <td>505.575685</td>\n",
       "      <td>4.512473</td>\n",
       "    </tr>\n",
       "    <tr>\n",
       "      <th>min</th>\n",
       "      <td>1567.580000</td>\n",
       "      <td>0.060000</td>\n",
       "    </tr>\n",
       "    <tr>\n",
       "      <th>25%</th>\n",
       "      <td>2302.905000</td>\n",
       "      <td>2.910000</td>\n",
       "    </tr>\n",
       "    <tr>\n",
       "      <th>50%</th>\n",
       "      <td>2757.145000</td>\n",
       "      <td>6.345000</td>\n",
       "    </tr>\n",
       "    <tr>\n",
       "      <th>75%</th>\n",
       "      <td>3127.670000</td>\n",
       "      <td>9.792500</td>\n",
       "    </tr>\n",
       "    <tr>\n",
       "      <th>max</th>\n",
       "      <td>3795.800000</td>\n",
       "      <td>18.220000</td>\n",
       "    </tr>\n",
       "  </tbody>\n",
       "</table>\n",
       "</div>"
      ],
      "text/plain": [
       "       Food Consumption  Alcohol Consumption\n",
       "count        158.000000           158.000000\n",
       "mean        2750.741076             6.734937\n",
       "std          505.575685             4.512473\n",
       "min         1567.580000             0.060000\n",
       "25%         2302.905000             2.910000\n",
       "50%         2757.145000             6.345000\n",
       "75%         3127.670000             9.792500\n",
       "max         3795.800000            18.220000"
      ]
     },
     "execution_count": 47,
     "metadata": {},
     "output_type": "execute_result"
    }
   ],
   "source": [
    "q3_pd.describe()"
   ]
  },
  {
   "cell_type": "code",
   "execution_count": 48,
   "metadata": {},
   "outputs": [
    {
     "name": "stderr",
     "output_type": "stream",
     "text": [
      "C:\\Users\\Sisi Florensia\\Anaconda3\\lib\\site-packages\\matplotlib\\axes\\_axes.py:6448: UserWarning: The 'normed' kwarg is deprecated, and has been replaced by the 'density' kwarg.\n",
      "  warnings.warn(\"The 'normed' kwarg is deprecated, and has been \"\n"
     ]
    },
    {
     "data": {
      "image/png": "[encoded data removed]",
      "text/plain": [
       "<Figure size 432x288 with 1 Axes>"
      ]
     },
     "metadata": {},
     "output_type": "display_data"
    }
   ],
   "source": [
    "x = q3_food_consumption\n",
    "sns.distplot(x, kde=False, fit=stats.gamma);"
   ]
  },
  {
   "cell_type": "code",
   "execution_count": 49,
   "metadata": {},
   "outputs": [
    {
     "name": "stderr",
     "output_type": "stream",
     "text": [
      "C:\\Users\\Sisi Florensia\\Anaconda3\\lib\\site-packages\\matplotlib\\axes\\_axes.py:6448: UserWarning: The 'normed' kwarg is deprecated, and has been replaced by the 'density' kwarg.\n",
      "  warnings.warn(\"The 'normed' kwarg is deprecated, and has been \"\n"
     ]
    },
    {
     "data": {
      "image/png": "[encoded data removed]",
      "text/plain": [
       "<Figure size 432x288 with 1 Axes>"
      ]
     },
     "metadata": {},
     "output_type": "display_data"
    }
   ],
   "source": [
    "x = q3_alcohol_consumption\n",
    "sns.distplot(x, kde=False, fit=stats.gamma);"
   ]
  },
  {
   "cell_type": "markdown",
   "metadata": {},
   "source": [
    "From running describe function, we could see that initially there were 176 countries in Food Consumption date and 188 countries in Alcohol Consumption data. I was expecting there will be at least 80% of 176 countries data are available to be used for further analysis. After mapping countries in both series, there are 158 countries that we can use for analysis. \n",
    "\n",
    "The distribution of Food Consumption data set look relatively normal. However, while Alcohol Consumption data is quite right skewed and have some abnormal tail on the right. There might be a few outliers that we need to investigate.\n",
    "\n",
    "Let's take a look at the data points distribution closer. This time, I will use scatterplot so I can get full overview on the data."
   ]
  },
  {
   "cell_type": "code",
   "execution_count": 50,
   "metadata": {},
   "outputs": [
    {
     "data": {
      "image/png": "[encoded data removed]",
      "text/plain": [
       "<Figure size 432x288 with 1 Axes>"
      ]
     },
     "metadata": {},
     "output_type": "display_data"
    }
   ],
   "source": [
    "# Visualising the data and correlation using scatter plot. \n",
    "# The size of the bubbles are static and not influenced by any parameter. \n",
    "N = len(q3_pd)\n",
    "x = q3_pd['Alcohol Consumption']\n",
    "y = q3_pd['Food Consumption']\n",
    "colors = np.random.rand(N)\n",
    "area = 5  # 0 to 15 point radius. This is static.\n",
    "\n",
    "plt.scatter(x, y, s=area, c=colors, alpha=0.8)\n",
    "plt.xlabel('Alcohol Consumption (litres/capita)')\n",
    "plt.ylabel('Food Consumption (kcal/person/day)')\n",
    "plt.title('Alcohol Consumption Vs Food Consumption')\n",
    "plt.plot(np.unique(x), np.poly1d(np.polyfit(x, y, 1))(np.unique(x)))\n",
    "plt.grid(True)\n",
    "plt.show()"
   ]
  },
  {
   "cell_type": "markdown",
   "metadata": {},
   "source": [
    "Other than having more data on the lower part of the spectrum in alcohol consumption data (mostly due to muslim-majority countries, as narrated in previous question Q2), I don't see any abnormalities in the data. This could be due to the quality of the data itself.\n",
    "\n",
    "In the Alcohol Consumption file from GapMinder, it comes with a caveat where it says that it was hard for them to estimate the average alcohol consumption due to uncertainties in the data availibility and the method they use. Especially, in countries with low GDP per capita. Also, as a reminder, that this is the data where only data from year 2005 and 2008 that are available, unlike the other indicators we used in this project.\n",
    "\n",
    "Regardless, this is the data that I have at this moment as per Udacity project rubric as well. Therefore, I will proceed with this data to see their correlation using 1D method."
   ]
  },
  {
   "cell_type": "code",
   "execution_count": 51,
   "metadata": {},
   "outputs": [
    {
     "data": {
      "text/plain": [
       "(101, 57)"
      ]
     },
     "execution_count": 51,
     "metadata": {},
     "output_type": "execute_result"
    }
   ],
   "source": [
    "# Calculate how many countries that go to same direction and how many go their opposite way, using the function earlier.\n",
    "indicators_correlation (q3_food_consumption,q3_alcohol_consumption)"
   ]
  },
  {
   "cell_type": "markdown",
   "metadata": {},
   "source": [
    "There are 101 out of 158 countries alcohol consumption and food consumption are both below or above the mean. This is almost 2/3 of our data. While in the rest 57 countries, alcohol consumption and food consumption level go oppposite way. This is about 1/3 our our data.\n",
    "\n",
    "The result of some positive correlation in between two indicators, debunked my initial hipothesis. Based on this result, it seems in some countries where the alcohol consumption is higher, the food consumption is also higher. Although that may not always be the case. Also, there could be some issues with data accuracies as written earlier. The correlation result could be stronger or weaker if we could use more accurate data.\n",
    "\n",
    "Let's see what we can see from Pearson correlation value. While it is not the best way to measure correlation of two simple data series, we can just quickly run this to compare the result with correlation analysis we did before."
   ]
  },
  {
   "cell_type": "code",
   "execution_count": 52,
   "metadata": {},
   "outputs": [
    {
     "data": {
      "text/html": [
       "<div>\n",
       "<style scoped>\n",
       "    .dataframe tbody tr th:only-of-type {\n",
       "        vertical-align: middle;\n",
       "    }\n",
       "\n",
       "    .dataframe tbody tr th {\n",
       "        vertical-align: top;\n",
       "    }\n",
       "\n",
       "    .dataframe thead th {\n",
       "        text-align: right;\n",
       "    }\n",
       "</style>\n",
       "<table border=\"1\" class=\"dataframe\">\n",
       "  <thead>\n",
       "    <tr style=\"text-align: right;\">\n",
       "      <th></th>\n",
       "      <th>Food Consumption</th>\n",
       "      <th>Alcohol Consumption</th>\n",
       "    </tr>\n",
       "  </thead>\n",
       "  <tbody>\n",
       "    <tr>\n",
       "      <th>Food Consumption</th>\n",
       "      <td>1.000000</td>\n",
       "      <td>0.432307</td>\n",
       "    </tr>\n",
       "    <tr>\n",
       "      <th>Alcohol Consumption</th>\n",
       "      <td>0.432307</td>\n",
       "      <td>1.000000</td>\n",
       "    </tr>\n",
       "  </tbody>\n",
       "</table>\n",
       "</div>"
      ],
      "text/plain": [
       "                     Food Consumption  Alcohol Consumption\n",
       "Food Consumption             1.000000             0.432307\n",
       "Alcohol Consumption          0.432307             1.000000"
      ]
     },
     "execution_count": 52,
     "metadata": {},
     "output_type": "execute_result"
    }
   ],
   "source": [
    "q3_pd.corr()"
   ]
  },
  {
   "cell_type": "markdown",
   "metadata": {},
   "source": [
    "The Pearson value is also showing some positive correlation, though might not be strong. This is aligned with the previous analysis."
   ]
  },
  {
   "cell_type": "markdown",
   "metadata": {},
   "source": [
    "\n",
    "\n",
    "###### Q3 Conclusion\n",
    "\n",
    "From the countries that we can investigate, there are some positive correlation in between the level of alcohol consumption and tendency of food consumption. Apparently, in some countries where people drink more, people tend to eat more. This is on contrary of my initial hipothesis. \n",
    "\n",
    "Apart from possibility of alcohol consumption data inaccuracies, it could be possible that the two indicators do not have a direct correlation, but might be correlated through other indicators that have strong positive correlations to both. In Q5 question later, I will explore further on correlation of these two indicators with GDP and life expectancies data that we also use in this project using 2D analysis. "
   ]
  },
  {
   "cell_type": "markdown",
   "metadata": {},
   "source": [
    "--------------------------------------------------------------------------------------------------------------------------------\n",
    "\n",
    "\n",
    "##### Q4: How does food consumption in rich / poor countries affect life expectancies?\n",
    "\n",
    "My initial hipothesis is:\n",
    "* H0: There are relatively strong positive correlations in between three indicators. However, the relationship in between Food Consumption and Life Expectancies might be turned into negative correlation once the food consumption is beyond normal consumption.\n",
    "\n",
    "To analyse this question, I will create a pandas DataFrame from 3 indicators, which are Food Consumption, GDP and Life Expectancies data from 2005. The analysis will be done using 2D data analysis approach.\n",
    "\n",
    "We have printed out Food Consumption statistical data properties in the previous question, where we know that original data length of is 176. Let's see what are the original length of the other two data. "
   ]
  },
  {
   "cell_type": "code",
   "execution_count": 53,
   "metadata": {},
   "outputs": [
    {
     "data": {
      "text/plain": [
       "194"
      ]
     },
     "execution_count": 53,
     "metadata": {},
     "output_type": "execute_result"
    }
   ],
   "source": [
    "len(gdp_2005)"
   ]
  },
  {
   "cell_type": "code",
   "execution_count": 54,
   "metadata": {},
   "outputs": [
    {
     "data": {
      "text/plain": [
       "206"
      ]
     },
     "execution_count": 54,
     "metadata": {},
     "output_type": "execute_result"
    }
   ],
   "source": [
    "len(life_expectancy_2005)"
   ]
  },
  {
   "cell_type": "markdown",
   "metadata": {},
   "source": [
    "From running length of original data set, we could see that Food Consumption data have the shortest lenght. Therefore, I am expecting that the data of the other to will also be truncated at least to this length after matching countries names. Let's do the pairings and only use countries where the data is complete for all three parameters and see the outcome."
   ]
  },
  {
   "cell_type": "code",
   "execution_count": 55,
   "metadata": {},
   "outputs": [
    {
     "data": {
      "text/html": [
       "<div>\n",
       "<style scoped>\n",
       "    .dataframe tbody tr th:only-of-type {\n",
       "        vertical-align: middle;\n",
       "    }\n",
       "\n",
       "    .dataframe tbody tr th {\n",
       "        vertical-align: top;\n",
       "    }\n",
       "\n",
       "    .dataframe thead th {\n",
       "        text-align: right;\n",
       "    }\n",
       "</style>\n",
       "<table border=\"1\" class=\"dataframe\">\n",
       "  <thead>\n",
       "    <tr style=\"text-align: right;\">\n",
       "      <th></th>\n",
       "      <th>food_consumption_2005</th>\n",
       "      <th>gdp_2005</th>\n",
       "      <th>life_expectancy_2005</th>\n",
       "    </tr>\n",
       "  </thead>\n",
       "  <tbody>\n",
       "    <tr>\n",
       "      <th>count</th>\n",
       "      <td>157.000000</td>\n",
       "      <td>157.000000</td>\n",
       "      <td>157.000000</td>\n",
       "    </tr>\n",
       "    <tr>\n",
       "      <th>mean</th>\n",
       "      <td>2744.636051</td>\n",
       "      <td>6830.296306</td>\n",
       "      <td>68.950955</td>\n",
       "    </tr>\n",
       "    <tr>\n",
       "      <th>std</th>\n",
       "      <td>515.689504</td>\n",
       "      <td>10458.578997</td>\n",
       "      <td>9.325383</td>\n",
       "    </tr>\n",
       "    <tr>\n",
       "      <th>min</th>\n",
       "      <td>1566.410000</td>\n",
       "      <td>92.370000</td>\n",
       "      <td>43.500000</td>\n",
       "    </tr>\n",
       "    <tr>\n",
       "      <th>25%</th>\n",
       "      <td>2294.690000</td>\n",
       "      <td>577.660000</td>\n",
       "      <td>62.000000</td>\n",
       "    </tr>\n",
       "    <tr>\n",
       "      <th>50%</th>\n",
       "      <td>2760.540000</td>\n",
       "      <td>1906.590000</td>\n",
       "      <td>72.000000</td>\n",
       "    </tr>\n",
       "    <tr>\n",
       "      <th>75%</th>\n",
       "      <td>3128.140000</td>\n",
       "      <td>6774.730000</td>\n",
       "      <td>75.800000</td>\n",
       "    </tr>\n",
       "    <tr>\n",
       "      <th>max</th>\n",
       "      <td>3795.800000</td>\n",
       "      <td>51927.360000</td>\n",
       "      <td>82.200000</td>\n",
       "    </tr>\n",
       "  </tbody>\n",
       "</table>\n",
       "</div>"
      ],
      "text/plain": [
       "       food_consumption_2005      gdp_2005  life_expectancy_2005\n",
       "count             157.000000    157.000000            157.000000\n",
       "mean             2744.636051   6830.296306             68.950955\n",
       "std               515.689504  10458.578997              9.325383\n",
       "min              1566.410000     92.370000             43.500000\n",
       "25%              2294.690000    577.660000             62.000000\n",
       "50%              2760.540000   1906.590000             72.000000\n",
       "75%              3128.140000   6774.730000             75.800000\n",
       "max              3795.800000  51927.360000             82.200000"
      ]
     },
     "execution_count": 55,
     "metadata": {},
     "output_type": "execute_result"
    }
   ],
   "source": [
    "q4_df = pd.DataFrame(dict(food_consumption_2005 = food_consumption_2005, gdp_2005 = gdp_2005, \\\n",
    "                          life_expectancy_2005 = life_expectancy_2005)).dropna()\n",
    "q4_df.describe()"
   ]
  },
  {
   "cell_type": "markdown",
   "metadata": {},
   "source": [
    "I was expecting there will be at least 80% of 176 countries data are available to be used for further analysis. After mapping countries in both series, there are 157 countries that we can use for analysis. It's still within our requirements.\n",
    "\n",
    "Let's take a look at the data points distribution. I will normalise all the data sets so we can present them in the same chart."
   ]
  },
  {
   "cell_type": "code",
   "execution_count": 56,
   "metadata": {},
   "outputs": [
    {
     "name": "stderr",
     "output_type": "stream",
     "text": [
      "C:\\Users\\Sisi Florensia\\Anaconda3\\lib\\site-packages\\matplotlib\\axes\\_axes.py:6448: UserWarning: The 'normed' kwarg is deprecated, and has been replaced by the 'density' kwarg.\n",
      "  warnings.warn(\"The 'normed' kwarg is deprecated, and has been \"\n"
     ]
    },
    {
     "data": {
      "image/png": "[encoded data removed]",
      "text/plain": [
       "<Figure size 432x288 with 1 Axes>"
      ]
     },
     "metadata": {},
     "output_type": "display_data"
    }
   ],
   "source": [
    "# Plot normalised value (using Z-score normalization) of columns.\n",
    "# For this report, I will print all three chart together.\n",
    "# To print each chart individuaLly, comment out the other two out of three statements below.\n",
    "sns.distplot((q4_df['food_consumption_2005']-q4_df['food_consumption_2005'].mean())/q4_df['food_consumption_2005'].std())\n",
    "sns.distplot((q4_df['gdp_2005']-q4_df['gdp_2005'].mean())/q4_df['gdp_2005'].std())\n",
    "sns.distplot((q4_df['life_expectancy_2005']-q4_df['life_expectancy_2005'].mean())/q4_df['life_expectancy_2005'].std());"
   ]
  },
  {
   "cell_type": "markdown",
   "metadata": {},
   "source": [
    "* The distribution of Food Consumption data is quite normal (just like it was in Q3 as well). \n",
    "* The distribution of GDP data is right skewed and heavy on the low GDP part. This is consistent with our analysis in Q1 Disclaimer. However, it looks like the data is quite accurate to represent inequality in the world.\n",
    "* The distribution of Life Expectancies data is right skewed. This is the first time we use this data set in this project. Let's see closer on how it looks like, in case there's any abnormalities. I will print only the countries with low life expectancies (lower than mean - std)."
   ]
  },
  {
   "cell_type": "code",
   "execution_count": 57,
   "metadata": {},
   "outputs": [
    {
     "data": {
      "text/plain": [
       "Angola              56.0\n",
       "Botswana            54.3\n",
       "Burkina Faso        56.8\n",
       "Burundi             53.8\n",
       "Cameroon            55.2\n",
       "Chad                53.6\n",
       "Congo, Dem. Rep.    54.2\n",
       "Congo, Rep.         56.1\n",
       "Cote d'Ivoire       53.6\n",
       "Eritrea             59.0\n",
       "Ethiopia            56.8\n",
       "Gabon               57.0\n",
       "Guinea              57.3\n",
       "Guinea-Bissau       50.9\n",
       "Kenya               58.8\n",
       "Lesotho             44.1\n",
       "Liberia             59.3\n",
       "Malawi              48.4\n",
       "Mali                54.2\n",
       "Mozambique          53.9\n",
       "Namibia             51.9\n",
       "Niger               57.3\n",
       "Nigeria             56.9\n",
       "Rwanda              57.3\n",
       "Sierra Leone        54.4\n",
       "South Africa        53.1\n",
       "Swaziland           43.5\n",
       "Tanzania            57.2\n",
       "Togo                59.0\n",
       "Uganda              54.5\n",
       "Zambia              47.9\n",
       "Zimbabwe            47.7\n",
       "Name: life_expectancy_2005, dtype: float64"
      ]
     },
     "execution_count": 57,
     "metadata": {},
     "output_type": "execute_result"
    }
   ],
   "source": [
    "# Print list of countries where the life expectancies are low.\n",
    "q4_df['life_expectancy_2005'].loc[q4_df['life_expectancy_2005'] < \\\n",
    "                                  (q4_df['life_expectancy_2005'].mean()-q4_df['life_expectancy_2005'].std())]"
   ]
  },
  {
   "cell_type": "markdown",
   "metadata": {},
   "source": [
    "It looks like most of them are countries in Africa. I did some quick research to verify the information. For example countries like Swaziland and Lesotho face several health issues, including HIV/AIDS and tuberculosis and others caused by  poor nutrition and inadequate hygiene. In 2018 report from World Population Review, it says that Swaziland even have lower life expectancies than our data. With median age of 20.5 years with a life expectancy of just 31.88 years, the lowest documented life expectancy in the world and less than half the world average.\n",
    "\n",
    "Looks like that the data we use is quite accurate. So, I will proceed further using the full set of this data to do the correlation analysis using Pearson."
   ]
  },
  {
   "cell_type": "code",
   "execution_count": 58,
   "metadata": {},
   "outputs": [
    {
     "data": {
      "text/html": [
       "<div>\n",
       "<style scoped>\n",
       "    .dataframe tbody tr th:only-of-type {\n",
       "        vertical-align: middle;\n",
       "    }\n",
       "\n",
       "    .dataframe tbody tr th {\n",
       "        vertical-align: top;\n",
       "    }\n",
       "\n",
       "    .dataframe thead th {\n",
       "        text-align: right;\n",
       "    }\n",
       "</style>\n",
       "<table border=\"1\" class=\"dataframe\">\n",
       "  <thead>\n",
       "    <tr style=\"text-align: right;\">\n",
       "      <th></th>\n",
       "      <th>food_consumption_2005</th>\n",
       "      <th>gdp_2005</th>\n",
       "      <th>life_expectancy_2005</th>\n",
       "    </tr>\n",
       "  </thead>\n",
       "  <tbody>\n",
       "    <tr>\n",
       "      <th>food_consumption_2005</th>\n",
       "      <td>1.000000</td>\n",
       "      <td>0.612340</td>\n",
       "      <td>0.713614</td>\n",
       "    </tr>\n",
       "    <tr>\n",
       "      <th>gdp_2005</th>\n",
       "      <td>0.612340</td>\n",
       "      <td>1.000000</td>\n",
       "      <td>0.588063</td>\n",
       "    </tr>\n",
       "    <tr>\n",
       "      <th>life_expectancy_2005</th>\n",
       "      <td>0.713614</td>\n",
       "      <td>0.588063</td>\n",
       "      <td>1.000000</td>\n",
       "    </tr>\n",
       "  </tbody>\n",
       "</table>\n",
       "</div>"
      ],
      "text/plain": [
       "                       food_consumption_2005  gdp_2005  life_expectancy_2005\n",
       "food_consumption_2005               1.000000  0.612340              0.713614\n",
       "gdp_2005                            0.612340  1.000000              0.588063\n",
       "life_expectancy_2005                0.713614  0.588063              1.000000"
      ]
     },
     "execution_count": 58,
     "metadata": {},
     "output_type": "execute_result"
    }
   ],
   "source": [
    "q4_df.corr()"
   ]
  },
  {
   "cell_type": "markdown",
   "metadata": {},
   "source": [
    "From the analysis above, it looks like there are quite strong positive correlations in between the indicators, where:\n",
    "* The level of Life Expectancies is affected by the level of GDP. This is quite a popular analysis that has been done many times by others. It was proven that there is indeed a strong correlation in between them. In this analysis, I got a Pearson coefficient of 0.588. \n",
    "* The level of Life Expectancies is correlated with the level of Food Consumption. It relatively strong at 0.7136. Even stronger than the relationship in between life expectancies and GDP. \n",
    "* The level of Food Consumption is affected by the level of GDP. It relatively strong at 0.6123. It is also stronger than correlation in between life expectancies and GDP, but lower than life expectancies and food consumption.\n",
    "\n",
    "While I do expect that they would have a positive correlations, I was not expecting that correlation in between Food Consumption and Life Expectancies will be higher than their relationship with GDP. However, all the correlation makes sense to me. \n",
    "\n",
    "There is one more aspect I would like to see from my previous hipothesis, is whether there correlation in between Food Consumption and Life Expectancy will go negative once the food consumption is excessive and on the extreme high. Researches have shown that in some countries (as in United States), excessive level of food consumption leads to epidemic obesities that cause many health problems, thus lower life expectancies.\n",
    "\n",
    "Perhaps we can see a better visibility of data by plotting them into scatter plot."
   ]
  },
  {
   "cell_type": "code",
   "execution_count": 59,
   "metadata": {},
   "outputs": [
    {
     "data": {
      "image/png": "[encoded data removed]",
      "text/plain": [
       "<Figure size 432x288 with 1 Axes>"
      ]
     },
     "metadata": {},
     "output_type": "display_data"
    }
   ],
   "source": [
    "# Visualising the data and correlation using scatter plot. \n",
    "# The size of the bubbles are static and not influenced by any parameter. \n",
    "N = len(q4_df)\n",
    "x = q4_df['food_consumption_2005']\n",
    "y = q4_df['life_expectancy_2005']\n",
    "colors = np.random.rand(N)\n",
    "area = np.pi * (q4_df['gdp_2005'])**0.3  # This is to scale the size of the bubbles based on corresponding countries' GDP.\n",
    "\n",
    "plt.scatter(x, y, s=area, c=colors, alpha=0.5, label='Countries GDP')\n",
    "plt.plot(np.unique(x), np.poly1d(np.polyfit(x, y, 1))(np.unique(x)))\n",
    "plt.xlabel('Food Consumption (kcal/person/day)')           # and here ?\n",
    "plt.ylabel('Life Expectancies (years)')          # and here ?\n",
    "plt.title('How Food Consumption Affect Life Expectancies')   # and here ?\n",
    "plt.legend()\n",
    "plt.grid(True)\n",
    "plt.show()"
   ]
  },
  {
   "cell_type": "markdown",
   "metadata": {},
   "source": [
    "From the chart above, we can see a quite strong positive correlation in between Food Consumption, Life Expectancies and GDP. However, cases of extreme food consumption are not as visible. Overall, we can see that highest life expectancies is quite stagnant around 82 years. If we observe the chart on the extreme right, we could see a slight downturn on life expectancies one the food consumption goes beyond around 3700 kcal/person/day.\n",
    "\n",
    "However, there is too few data points available for me to take this conclusion. Perhaps, this question is better analysed using individuals data, smaller scale and scope research, or more updated data points as there are more cases related to obesities these days compared to in 2005. \n",
    "\n",
    "For the sake of curiousity, I would like to know which countries are consuming more than 3700 kcal/person/day and how the trends look like."
   ]
  },
  {
   "cell_type": "code",
   "execution_count": 60,
   "metadata": {},
   "outputs": [],
   "source": [
    "# Select countries with extreme food consumption\n",
    "q4_df_extreme_high_food_consumption = q4_df.loc[q4_df['food_consumption_2005'] > 3700]"
   ]
  },
  {
   "cell_type": "code",
   "execution_count": 61,
   "metadata": {},
   "outputs": [
    {
     "data": {
      "text/html": [
       "<div>\n",
       "<style scoped>\n",
       "    .dataframe tbody tr th:only-of-type {\n",
       "        vertical-align: middle;\n",
       "    }\n",
       "\n",
       "    .dataframe tbody tr th {\n",
       "        vertical-align: top;\n",
       "    }\n",
       "\n",
       "    .dataframe thead th {\n",
       "        text-align: right;\n",
       "    }\n",
       "</style>\n",
       "<table border=\"1\" class=\"dataframe\">\n",
       "  <thead>\n",
       "    <tr style=\"text-align: right;\">\n",
       "      <th></th>\n",
       "      <th>food_consumption_2005</th>\n",
       "      <th>gdp_2005</th>\n",
       "      <th>life_expectancy_2005</th>\n",
       "    </tr>\n",
       "  </thead>\n",
       "  <tbody>\n",
       "    <tr>\n",
       "      <th>Austria</th>\n",
       "      <td>3700.89</td>\n",
       "      <td>25370.47</td>\n",
       "      <td>79.6</td>\n",
       "    </tr>\n",
       "    <tr>\n",
       "      <th>Belgium</th>\n",
       "      <td>3701.60</td>\n",
       "      <td>24033.78</td>\n",
       "      <td>79.2</td>\n",
       "    </tr>\n",
       "    <tr>\n",
       "      <th>Luxembourg</th>\n",
       "      <td>3705.24</td>\n",
       "      <td>51927.36</td>\n",
       "      <td>79.8</td>\n",
       "    </tr>\n",
       "    <tr>\n",
       "      <th>United States</th>\n",
       "      <td>3795.80</td>\n",
       "      <td>37718.01</td>\n",
       "      <td>77.7</td>\n",
       "    </tr>\n",
       "  </tbody>\n",
       "</table>\n",
       "</div>"
      ],
      "text/plain": [
       "               food_consumption_2005  gdp_2005  life_expectancy_2005\n",
       "Austria                      3700.89  25370.47                  79.6\n",
       "Belgium                      3701.60  24033.78                  79.2\n",
       "Luxembourg                   3705.24  51927.36                  79.8\n",
       "United States                3795.80  37718.01                  77.7"
      ]
     },
     "execution_count": 61,
     "metadata": {},
     "output_type": "execute_result"
    }
   ],
   "source": [
    "q4_df_extreme_high_food_consumption"
   ]
  },
  {
   "cell_type": "code",
   "execution_count": 62,
   "metadata": {},
   "outputs": [
    {
     "data": {
      "text/html": [
       "<div>\n",
       "<style scoped>\n",
       "    .dataframe tbody tr th:only-of-type {\n",
       "        vertical-align: middle;\n",
       "    }\n",
       "\n",
       "    .dataframe tbody tr th {\n",
       "        vertical-align: top;\n",
       "    }\n",
       "\n",
       "    .dataframe thead th {\n",
       "        text-align: right;\n",
       "    }\n",
       "</style>\n",
       "<table border=\"1\" class=\"dataframe\">\n",
       "  <thead>\n",
       "    <tr style=\"text-align: right;\">\n",
       "      <th></th>\n",
       "      <th>food_consumption_2005</th>\n",
       "      <th>gdp_2005</th>\n",
       "      <th>life_expectancy_2005</th>\n",
       "    </tr>\n",
       "  </thead>\n",
       "  <tbody>\n",
       "    <tr>\n",
       "      <th>food_consumption_2005</th>\n",
       "      <td>1.000000</td>\n",
       "      <td>0.191096</td>\n",
       "      <td>-0.957162</td>\n",
       "    </tr>\n",
       "    <tr>\n",
       "      <th>gdp_2005</th>\n",
       "      <td>0.191096</td>\n",
       "      <td>1.000000</td>\n",
       "      <td>0.056935</td>\n",
       "    </tr>\n",
       "    <tr>\n",
       "      <th>life_expectancy_2005</th>\n",
       "      <td>-0.957162</td>\n",
       "      <td>0.056935</td>\n",
       "      <td>1.000000</td>\n",
       "    </tr>\n",
       "  </tbody>\n",
       "</table>\n",
       "</div>"
      ],
      "text/plain": [
       "                       food_consumption_2005  gdp_2005  life_expectancy_2005\n",
       "food_consumption_2005               1.000000  0.191096             -0.957162\n",
       "gdp_2005                            0.191096  1.000000              0.056935\n",
       "life_expectancy_2005               -0.957162  0.056935              1.000000"
      ]
     },
     "execution_count": 62,
     "metadata": {},
     "output_type": "execute_result"
    }
   ],
   "source": [
    "q4_df_extreme_high_food_consumption.corr()"
   ]
  },
  {
   "cell_type": "markdown",
   "metadata": {},
   "source": [
    "As predicted, United States is on the top of the rank by almost consuming 3800 kcal/person/day. The Pearson value indicates that  excessive food consumptions is very strongly correlate to lower life expectancies, regardless the GDP level of the countries. Of course, that the analysis using Pearson value with only 4 entries would not be that accurate. However, it could be a good indicator to kickstart deeper investigation on this area using better type of data and distribution for this kind of question. "
   ]
  },
  {
   "cell_type": "markdown",
   "metadata": {},
   "source": [
    "\n",
    "\n",
    "##### Q4 Conclusion\n",
    "\n",
    "Food consumption correlates relatively strong to level of GDP of the countries, which then also quite strongly correlates to Life Expectancies as well. It means, in richer countries, people most likely have higher level of food consumption, which subsequently also have higher Life Expectancies. And most likely, the trends in poorer countries go the opposite direction.\n",
    "\n",
    "Although, in a case of extremely high food consumption level, the trend starts to go the opposite way, regardless the level of GDP. Due to limitation of the data set, this follow up question could not be analysed throughly within this project. \n",
    "\n"
   ]
  },
  {
   "cell_type": "markdown",
   "metadata": {},
   "source": [
    "--------------------------------------------------------------------------------------------------------------------------------\n",
    "\n",
    "\n",
    "##### Q5: Is there any surprising result in between all these indicators?\n",
    "\n",
    "To analyse this question,  I will start by creating a pandas DataFrame consist of all indicators in 2005, except for Work Hours, and apply generic correlation using Pearson (coefficient R). Work hours data set is excluded due to its limited number data points and coverage. Also, it would just cause our other data set to be truncated to its length, which is not something that would be helpful for our analysis."
   ]
  },
  {
   "cell_type": "code",
   "execution_count": 63,
   "metadata": {},
   "outputs": [
    {
     "data": {
      "text/html": [
       "<div>\n",
       "<style scoped>\n",
       "    .dataframe tbody tr th:only-of-type {\n",
       "        vertical-align: middle;\n",
       "    }\n",
       "\n",
       "    .dataframe tbody tr th {\n",
       "        vertical-align: top;\n",
       "    }\n",
       "\n",
       "    .dataframe thead th {\n",
       "        text-align: right;\n",
       "    }\n",
       "</style>\n",
       "<table border=\"1\" class=\"dataframe\">\n",
       "  <thead>\n",
       "    <tr style=\"text-align: right;\">\n",
       "      <th></th>\n",
       "      <th>alcohol_consumption_2005</th>\n",
       "      <th>food_consumption_2005</th>\n",
       "      <th>gdp_2005</th>\n",
       "      <th>life_expectancy_2005</th>\n",
       "    </tr>\n",
       "  </thead>\n",
       "  <tbody>\n",
       "    <tr>\n",
       "      <th>count</th>\n",
       "      <td>151.000000</td>\n",
       "      <td>151.000000</td>\n",
       "      <td>151.000000</td>\n",
       "      <td>151.000000</td>\n",
       "    </tr>\n",
       "    <tr>\n",
       "      <th>mean</th>\n",
       "      <td>6.700927</td>\n",
       "      <td>2756.457351</td>\n",
       "      <td>7011.237815</td>\n",
       "      <td>68.974834</td>\n",
       "    </tr>\n",
       "    <tr>\n",
       "      <th>std</th>\n",
       "      <td>4.583946</td>\n",
       "      <td>514.507352</td>\n",
       "      <td>10616.347263</td>\n",
       "      <td>9.321783</td>\n",
       "    </tr>\n",
       "    <tr>\n",
       "      <th>min</th>\n",
       "      <td>0.060000</td>\n",
       "      <td>1567.580000</td>\n",
       "      <td>128.300000</td>\n",
       "      <td>43.500000</td>\n",
       "    </tr>\n",
       "    <tr>\n",
       "      <th>25%</th>\n",
       "      <td>2.730000</td>\n",
       "      <td>2296.590000</td>\n",
       "      <td>560.510000</td>\n",
       "      <td>62.100000</td>\n",
       "    </tr>\n",
       "    <tr>\n",
       "      <th>50%</th>\n",
       "      <td>6.310000</td>\n",
       "      <td>2768.000000</td>\n",
       "      <td>1977.740000</td>\n",
       "      <td>71.900000</td>\n",
       "    </tr>\n",
       "    <tr>\n",
       "      <th>75%</th>\n",
       "      <td>9.900000</td>\n",
       "      <td>3142.800000</td>\n",
       "      <td>7081.045000</td>\n",
       "      <td>75.900000</td>\n",
       "    </tr>\n",
       "    <tr>\n",
       "      <th>max</th>\n",
       "      <td>18.220000</td>\n",
       "      <td>3795.800000</td>\n",
       "      <td>51927.360000</td>\n",
       "      <td>82.200000</td>\n",
       "    </tr>\n",
       "  </tbody>\n",
       "</table>\n",
       "</div>"
      ],
      "text/plain": [
       "       alcohol_consumption_2005  food_consumption_2005      gdp_2005  \\\n",
       "count                151.000000             151.000000    151.000000   \n",
       "mean                   6.700927            2756.457351   7011.237815   \n",
       "std                    4.583946             514.507352  10616.347263   \n",
       "min                    0.060000            1567.580000    128.300000   \n",
       "25%                    2.730000            2296.590000    560.510000   \n",
       "50%                    6.310000            2768.000000   1977.740000   \n",
       "75%                    9.900000            3142.800000   7081.045000   \n",
       "max                   18.220000            3795.800000  51927.360000   \n",
       "\n",
       "       life_expectancy_2005  \n",
       "count            151.000000  \n",
       "mean              68.974834  \n",
       "std                9.321783  \n",
       "min               43.500000  \n",
       "25%               62.100000  \n",
       "50%               71.900000  \n",
       "75%               75.900000  \n",
       "max               82.200000  "
      ]
     },
     "execution_count": 63,
     "metadata": {},
     "output_type": "execute_result"
    }
   ],
   "source": [
    "# Create a DataFrame with all four indicators (Work Hours is excluded)\n",
    "q5_df = pd.DataFrame(dict(gdp_2005 = gdp_2005, food_consumption_2005 = food_consumption_2005, \\\n",
    "                           alcohol_consumption_2005 = alcohol_consumption_2005, \\\n",
    "                           life_expectancy_2005 = life_expectancy_2005)).dropna()\n",
    "\n",
    "q5_df.describe()"
   ]
  },
  {
   "cell_type": "markdown",
   "metadata": {},
   "source": [
    "I was expecting there will be at least 80% of 176 countries (Food Consumption's length as it is the shortest data set) are available to be used for further analysis. After mapping countries in all four series, there are 151 countries that we can use for analysis. It's still within our requirements. Also, from it's statistic above, there is no abnormalities I can spot so far.\n",
    "\n",
    "Let's take a look at the data points distribution. I will normalise all the data sets so we can present them in the same chart."
   ]
  },
  {
   "cell_type": "code",
   "execution_count": 64,
   "metadata": {},
   "outputs": [
    {
     "name": "stderr",
     "output_type": "stream",
     "text": [
      "C:\\Users\\Sisi Florensia\\Anaconda3\\lib\\site-packages\\matplotlib\\axes\\_axes.py:6448: UserWarning: The 'normed' kwarg is deprecated, and has been replaced by the 'density' kwarg.\n",
      "  warnings.warn(\"The 'normed' kwarg is deprecated, and has been \"\n"
     ]
    },
    {
     "data": {
      "image/png": "[encoded data removed]",
      "text/plain": [
       "<Figure size 432x288 with 1 Axes>"
      ]
     },
     "metadata": {},
     "output_type": "display_data"
    }
   ],
   "source": [
    "# Plot normalised value (using Z-score normalization) of columns.\n",
    "# For this report, I will print all the chart together.\n",
    "# To print each chart individuaLly, comment out the other three out of four statements below.\n",
    "sns.distplot((q5_df['food_consumption_2005']-q5_df['food_consumption_2005'].mean())/q5_df['food_consumption_2005'].std())\n",
    "sns.distplot((q5_df['gdp_2005']-q5_df['gdp_2005'].mean())/q5_df['gdp_2005'].std())\n",
    "sns.distplot((q5_df['alcohol_consumption_2005']-q5_df['alcohol_consumption_2005'].mean())/q5_df['alcohol_consumption_2005'].std())\n",
    "sns.distplot((q5_df['life_expectancy_2005']-q5_df['life_expectancy_2005'].mean())/q5_df['life_expectancy_2005'].std());"
   ]
  },
  {
   "cell_type": "markdown",
   "metadata": {},
   "source": [
    "The distributions look a similar to the one in Q4 (where 3 out 4 indicators in this question were used). There is nothing really surprising in the distribution apart from what had been addressed in previous questions."
   ]
  },
  {
   "cell_type": "code",
   "execution_count": 65,
   "metadata": {},
   "outputs": [
    {
     "data": {
      "text/html": [
       "<div>\n",
       "<style scoped>\n",
       "    .dataframe tbody tr th:only-of-type {\n",
       "        vertical-align: middle;\n",
       "    }\n",
       "\n",
       "    .dataframe tbody tr th {\n",
       "        vertical-align: top;\n",
       "    }\n",
       "\n",
       "    .dataframe thead th {\n",
       "        text-align: right;\n",
       "    }\n",
       "</style>\n",
       "<table border=\"1\" class=\"dataframe\">\n",
       "  <thead>\n",
       "    <tr style=\"text-align: right;\">\n",
       "      <th></th>\n",
       "      <th>alcohol_consumption_2005</th>\n",
       "      <th>food_consumption_2005</th>\n",
       "      <th>gdp_2005</th>\n",
       "      <th>life_expectancy_2005</th>\n",
       "    </tr>\n",
       "  </thead>\n",
       "  <tbody>\n",
       "    <tr>\n",
       "      <th>alcohol_consumption_2005</th>\n",
       "      <td>1.000000</td>\n",
       "      <td>0.441876</td>\n",
       "      <td>0.342386</td>\n",
       "      <td>0.276680</td>\n",
       "    </tr>\n",
       "    <tr>\n",
       "      <th>food_consumption_2005</th>\n",
       "      <td>0.441876</td>\n",
       "      <td>1.000000</td>\n",
       "      <td>0.613707</td>\n",
       "      <td>0.718033</td>\n",
       "    </tr>\n",
       "    <tr>\n",
       "      <th>gdp_2005</th>\n",
       "      <td>0.342386</td>\n",
       "      <td>0.613707</td>\n",
       "      <td>1.000000</td>\n",
       "      <td>0.597093</td>\n",
       "    </tr>\n",
       "    <tr>\n",
       "      <th>life_expectancy_2005</th>\n",
       "      <td>0.276680</td>\n",
       "      <td>0.718033</td>\n",
       "      <td>0.597093</td>\n",
       "      <td>1.000000</td>\n",
       "    </tr>\n",
       "  </tbody>\n",
       "</table>\n",
       "</div>"
      ],
      "text/plain": [
       "                          alcohol_consumption_2005  food_consumption_2005  \\\n",
       "alcohol_consumption_2005                  1.000000               0.441876   \n",
       "food_consumption_2005                     0.441876               1.000000   \n",
       "gdp_2005                                  0.342386               0.613707   \n",
       "life_expectancy_2005                      0.276680               0.718033   \n",
       "\n",
       "                          gdp_2005  life_expectancy_2005  \n",
       "alcohol_consumption_2005  0.342386              0.276680  \n",
       "food_consumption_2005     0.613707              0.718033  \n",
       "gdp_2005                  1.000000              0.597093  \n",
       "life_expectancy_2005      0.597093              1.000000  "
      ]
     },
     "execution_count": 65,
     "metadata": {},
     "output_type": "execute_result"
    }
   ],
   "source": [
    "q5_df.corr()"
   ]
  },
  {
   "cell_type": "markdown",
   "metadata": {},
   "source": [
    "Most of the relationships in between indicators were investigated in previous questions. This correlation analysis is consistent with previous analyses, where they have notable positive correlation in between each others. By including alcohol consumption indicators, it seems that it support stronger correlations, even only by few decimal points (more or less around 0.01)."
   ]
  },
  {
   "cell_type": "markdown",
   "metadata": {},
   "source": [
    "What surprises me, is the positive correlation in between Alcohol Consumption and Life Expectancies. Eventhough the correlation is not that strong, it is still somehow could back up that expression where people randomly says \"Drink alcohol for a longer life\". It is something that does not really make sense, but if this analysis checked out, it could be partly true.\n",
    "\n",
    "However, it could also be that these life expectancies is more affected more by other factors, eg. by GDP and Food Consumption, instead of alcohol consumption itself (as shown by the correlation coefficients above). Perhaps, we could try to isolate the data using few paramaters, and ask more define question. For example:\n",
    "* Q5b: In countries where GDP is below the mean and alcohol consumption is above the mean, how would alcohol consumption affect life expectancies? \n",
    "\n",
    "I exclude the countries with high GDP to reduce bias of availability of good health care system in these countries. I also isolate out the countries with alcohol consumption below the mean, so we can filter out muslim-majority countries where alcohol consumption is prohibited more by religion. This way, we can also focus to see apparent effect of notable alcohol consumption."
   ]
  },
  {
   "cell_type": "code",
   "execution_count": 66,
   "metadata": {},
   "outputs": [],
   "source": [
    "# Isolating dataset, only taking low GDP countries with high alcohol consumption.\n",
    "q5_df_gdp_below_mean = q5_df.loc[q5_df['gdp_2005'] < q5_df['gdp_2005'].mean()]\n",
    "q5_df_gdp_below_mean_and_alc_above_mean = q5_df_gdp_below_mean.loc[q5_df['alcohol_consumption_2005'] \\\n",
    "                                                                   > q5_df_gdp_below_mean['alcohol_consumption_2005'].mean()]"
   ]
  },
  {
   "cell_type": "code",
   "execution_count": 67,
   "metadata": {
    "scrolled": true
   },
   "outputs": [
    {
     "data": {
      "text/html": [
       "<div>\n",
       "<style scoped>\n",
       "    .dataframe tbody tr th:only-of-type {\n",
       "        vertical-align: middle;\n",
       "    }\n",
       "\n",
       "    .dataframe tbody tr th {\n",
       "        vertical-align: top;\n",
       "    }\n",
       "\n",
       "    .dataframe thead th {\n",
       "        text-align: right;\n",
       "    }\n",
       "</style>\n",
       "<table border=\"1\" class=\"dataframe\">\n",
       "  <thead>\n",
       "    <tr style=\"text-align: right;\">\n",
       "      <th></th>\n",
       "      <th>alcohol_consumption_2005</th>\n",
       "      <th>food_consumption_2005</th>\n",
       "      <th>gdp_2005</th>\n",
       "      <th>life_expectancy_2005</th>\n",
       "    </tr>\n",
       "  </thead>\n",
       "  <tbody>\n",
       "    <tr>\n",
       "      <th>count</th>\n",
       "      <td>49.000000</td>\n",
       "      <td>49.000000</td>\n",
       "      <td>49.000000</td>\n",
       "      <td>49.000000</td>\n",
       "    </tr>\n",
       "    <tr>\n",
       "      <th>mean</th>\n",
       "      <td>10.055918</td>\n",
       "      <td>2710.888163</td>\n",
       "      <td>2680.243878</td>\n",
       "      <td>67.351020</td>\n",
       "    </tr>\n",
       "    <tr>\n",
       "      <th>std</th>\n",
       "      <td>3.323941</td>\n",
       "      <td>436.784736</td>\n",
       "      <td>2058.287935</td>\n",
       "      <td>8.280452</td>\n",
       "    </tr>\n",
       "    <tr>\n",
       "      <th>min</th>\n",
       "      <td>6.070000</td>\n",
       "      <td>1695.730000</td>\n",
       "      <td>128.300000</td>\n",
       "      <td>51.900000</td>\n",
       "    </tr>\n",
       "    <tr>\n",
       "      <th>25%</th>\n",
       "      <td>7.080000</td>\n",
       "      <td>2402.690000</td>\n",
       "      <td>989.280000</td>\n",
       "      <td>57.300000</td>\n",
       "    </tr>\n",
       "    <tr>\n",
       "      <th>50%</th>\n",
       "      <td>9.460000</td>\n",
       "      <td>2723.530000</td>\n",
       "      <td>2260.220000</td>\n",
       "      <td>70.600000</td>\n",
       "    </tr>\n",
       "    <tr>\n",
       "      <th>75%</th>\n",
       "      <td>12.280000</td>\n",
       "      <td>3053.770000</td>\n",
       "      <td>4431.130000</td>\n",
       "      <td>73.800000</td>\n",
       "    </tr>\n",
       "    <tr>\n",
       "      <th>max</th>\n",
       "      <td>18.220000</td>\n",
       "      <td>3513.690000</td>\n",
       "      <td>6967.470000</td>\n",
       "      <td>78.400000</td>\n",
       "    </tr>\n",
       "  </tbody>\n",
       "</table>\n",
       "</div>"
      ],
      "text/plain": [
       "       alcohol_consumption_2005  food_consumption_2005     gdp_2005  \\\n",
       "count                 49.000000              49.000000    49.000000   \n",
       "mean                  10.055918            2710.888163  2680.243878   \n",
       "std                    3.323941             436.784736  2058.287935   \n",
       "min                    6.070000            1695.730000   128.300000   \n",
       "25%                    7.080000            2402.690000   989.280000   \n",
       "50%                    9.460000            2723.530000  2260.220000   \n",
       "75%                   12.280000            3053.770000  4431.130000   \n",
       "max                   18.220000            3513.690000  6967.470000   \n",
       "\n",
       "       life_expectancy_2005  \n",
       "count             49.000000  \n",
       "mean              67.351020  \n",
       "std                8.280452  \n",
       "min               51.900000  \n",
       "25%               57.300000  \n",
       "50%               70.600000  \n",
       "75%               73.800000  \n",
       "max               78.400000  "
      ]
     },
     "execution_count": 67,
     "metadata": {},
     "output_type": "execute_result"
    }
   ],
   "source": [
    "q5_df_gdp_below_mean_and_alc_above_mean.describe()"
   ]
  },
  {
   "cell_type": "code",
   "execution_count": 68,
   "metadata": {},
   "outputs": [
    {
     "data": {
      "text/html": [
       "<div>\n",
       "<style scoped>\n",
       "    .dataframe tbody tr th:only-of-type {\n",
       "        vertical-align: middle;\n",
       "    }\n",
       "\n",
       "    .dataframe tbody tr th {\n",
       "        vertical-align: top;\n",
       "    }\n",
       "\n",
       "    .dataframe thead th {\n",
       "        text-align: right;\n",
       "    }\n",
       "</style>\n",
       "<table border=\"1\" class=\"dataframe\">\n",
       "  <thead>\n",
       "    <tr style=\"text-align: right;\">\n",
       "      <th></th>\n",
       "      <th>alcohol_consumption_2005</th>\n",
       "      <th>food_consumption_2005</th>\n",
       "      <th>gdp_2005</th>\n",
       "      <th>life_expectancy_2005</th>\n",
       "    </tr>\n",
       "  </thead>\n",
       "  <tbody>\n",
       "    <tr>\n",
       "      <th>alcohol_consumption_2005</th>\n",
       "      <td>1.000000</td>\n",
       "      <td>0.537043</td>\n",
       "      <td>0.150220</td>\n",
       "      <td>0.105833</td>\n",
       "    </tr>\n",
       "    <tr>\n",
       "      <th>food_consumption_2005</th>\n",
       "      <td>0.537043</td>\n",
       "      <td>1.000000</td>\n",
       "      <td>0.473710</td>\n",
       "      <td>0.519852</td>\n",
       "    </tr>\n",
       "    <tr>\n",
       "      <th>gdp_2005</th>\n",
       "      <td>0.150220</td>\n",
       "      <td>0.473710</td>\n",
       "      <td>1.000000</td>\n",
       "      <td>0.540003</td>\n",
       "    </tr>\n",
       "    <tr>\n",
       "      <th>life_expectancy_2005</th>\n",
       "      <td>0.105833</td>\n",
       "      <td>0.519852</td>\n",
       "      <td>0.540003</td>\n",
       "      <td>1.000000</td>\n",
       "    </tr>\n",
       "  </tbody>\n",
       "</table>\n",
       "</div>"
      ],
      "text/plain": [
       "                          alcohol_consumption_2005  food_consumption_2005  \\\n",
       "alcohol_consumption_2005                  1.000000               0.537043   \n",
       "food_consumption_2005                     0.537043               1.000000   \n",
       "gdp_2005                                  0.150220               0.473710   \n",
       "life_expectancy_2005                      0.105833               0.519852   \n",
       "\n",
       "                          gdp_2005  life_expectancy_2005  \n",
       "alcohol_consumption_2005  0.150220              0.105833  \n",
       "food_consumption_2005     0.473710              0.519852  \n",
       "gdp_2005                  1.000000              0.540003  \n",
       "life_expectancy_2005      0.540003              1.000000  "
      ]
     },
     "execution_count": 68,
     "metadata": {},
     "output_type": "execute_result"
    }
   ],
   "source": [
    "q5_df_gdp_below_mean_and_alc_above_mean.corr()"
   ]
  },
  {
   "cell_type": "code",
   "execution_count": 69,
   "metadata": {},
   "outputs": [
    {
     "data": {
      "image/png": "[encoded data removed]",
      "text/plain": [
       "<Figure size 432x288 with 1 Axes>"
      ]
     },
     "metadata": {},
     "output_type": "display_data"
    }
   ],
   "source": [
    "N = len(q5_df_gdp_below_mean_and_alc_above_mean)\n",
    "x = q5_df_gdp_below_mean_and_alc_above_mean['alcohol_consumption_2005']\n",
    "y = q5_df_gdp_below_mean_and_alc_above_mean['life_expectancy_2005']\n",
    "colors = np.random.rand(N)\n",
    "area = np.pi * (q5_df_gdp_below_mean_and_alc_above_mean['gdp_2005'])**0.3\n",
    "\n",
    "plt.scatter(x, y, s=area, c=colors, alpha=0.5, label='Countries GDP')\n",
    "plt.plot(np.unique(x), np.poly1d(np.polyfit(x, y, 1))(np.unique(x)))\n",
    "plt.xlabel('Alcohol Consumption (litres/person)') \n",
    "plt.ylabel('Life Expectancies (years)') \n",
    "plt.title('How Alcohol Consumption Affect Life Expectancies in low GDP countries') \n",
    "plt.legend()\n",
    "plt.grid(True)\n",
    "plt.show()"
   ]
  },
  {
   "cell_type": "markdown",
   "metadata": {},
   "source": [
    "We could see that by isolating the parameters, the positive correlation in between Alcohol Consumption and Life Expectancies is significantly less to a very weak correlation. I wonder if the life expectancies here is still affected by extreme low or high food consumption than the alcohol itself. \n",
    "\n",
    "How would the correlation would be if we also isolate parameter Food Consumption and only include countries where food consumption is moderate or not an issue. I will rephrase the question:\n",
    "* Q5c: In countries where food consumption is not an issue, and GDP is below the mean and alcohol consumption is above the mean, how would alcohol consumption affect life expectancies?"
   ]
  },
  {
   "cell_type": "code",
   "execution_count": 70,
   "metadata": {},
   "outputs": [],
   "source": [
    "# Isolating dataset to include only countries with moderate food consumption as well.\n",
    "q5_df_gdp_below_mean_and_alc_above_mean_foodabovemean = \\\n",
    "q5_df_gdp_below_mean_and_alc_above_mean.loc[q5_df_gdp_below_mean_and_alc_above_mean['food_consumption_2005'] \\\n",
    "                                            > (q5_df_gdp_below_mean_and_alc_above_mean['food_consumption_2005'].mean()\\\n",
    "                                               - q5_df_gdp_below_mean_and_alc_above_mean['food_consumption_2005'].std())]\n",
    "q5_df_gdp_below_mean_and_alc_above_mean_foodmoderate = \\\n",
    "q5_df_gdp_below_mean_and_alc_above_mean_foodabovemean.loc[q5_df_gdp_below_mean_and_alc_above_mean['food_consumption_2005'] \\\n",
    "                                            < (q5_df_gdp_below_mean_and_alc_above_mean['food_consumption_2005'].mean()\\\n",
    "                                               + q5_df_gdp_below_mean_and_alc_above_mean['food_consumption_2005'].std())]"
   ]
  },
  {
   "cell_type": "code",
   "execution_count": 71,
   "metadata": {},
   "outputs": [
    {
     "data": {
      "text/html": [
       "<div>\n",
       "<style scoped>\n",
       "    .dataframe tbody tr th:only-of-type {\n",
       "        vertical-align: middle;\n",
       "    }\n",
       "\n",
       "    .dataframe tbody tr th {\n",
       "        vertical-align: top;\n",
       "    }\n",
       "\n",
       "    .dataframe thead th {\n",
       "        text-align: right;\n",
       "    }\n",
       "</style>\n",
       "<table border=\"1\" class=\"dataframe\">\n",
       "  <thead>\n",
       "    <tr style=\"text-align: right;\">\n",
       "      <th></th>\n",
       "      <th>alcohol_consumption_2005</th>\n",
       "      <th>food_consumption_2005</th>\n",
       "      <th>gdp_2005</th>\n",
       "      <th>life_expectancy_2005</th>\n",
       "    </tr>\n",
       "  </thead>\n",
       "  <tbody>\n",
       "    <tr>\n",
       "      <th>count</th>\n",
       "      <td>33.000000</td>\n",
       "      <td>33.000000</td>\n",
       "      <td>33.000000</td>\n",
       "      <td>33.000000</td>\n",
       "    </tr>\n",
       "    <tr>\n",
       "      <th>mean</th>\n",
       "      <td>9.482424</td>\n",
       "      <td>2725.653333</td>\n",
       "      <td>2877.242424</td>\n",
       "      <td>68.821212</td>\n",
       "    </tr>\n",
       "    <tr>\n",
       "      <th>std</th>\n",
       "      <td>3.142850</td>\n",
       "      <td>261.622639</td>\n",
       "      <td>2019.406238</td>\n",
       "      <td>8.016419</td>\n",
       "    </tr>\n",
       "    <tr>\n",
       "      <th>min</th>\n",
       "      <td>6.070000</td>\n",
       "      <td>2287.620000</td>\n",
       "      <td>252.210000</td>\n",
       "      <td>51.900000</td>\n",
       "    </tr>\n",
       "    <tr>\n",
       "      <th>25%</th>\n",
       "      <td>6.900000</td>\n",
       "      <td>2503.740000</td>\n",
       "      <td>1185.380000</td>\n",
       "      <td>68.500000</td>\n",
       "    </tr>\n",
       "    <tr>\n",
       "      <th>50%</th>\n",
       "      <td>9.160000</td>\n",
       "      <td>2723.530000</td>\n",
       "      <td>2359.640000</td>\n",
       "      <td>72.400000</td>\n",
       "    </tr>\n",
       "    <tr>\n",
       "      <th>75%</th>\n",
       "      <td>10.600000</td>\n",
       "      <td>2952.870000</td>\n",
       "      <td>4431.130000</td>\n",
       "      <td>74.100000</td>\n",
       "    </tr>\n",
       "    <tr>\n",
       "      <th>max</th>\n",
       "      <td>18.220000</td>\n",
       "      <td>3107.330000</td>\n",
       "      <td>6967.470000</td>\n",
       "      <td>78.400000</td>\n",
       "    </tr>\n",
       "  </tbody>\n",
       "</table>\n",
       "</div>"
      ],
      "text/plain": [
       "       alcohol_consumption_2005  food_consumption_2005     gdp_2005  \\\n",
       "count                 33.000000              33.000000    33.000000   \n",
       "mean                   9.482424            2725.653333  2877.242424   \n",
       "std                    3.142850             261.622639  2019.406238   \n",
       "min                    6.070000            2287.620000   252.210000   \n",
       "25%                    6.900000            2503.740000  1185.380000   \n",
       "50%                    9.160000            2723.530000  2359.640000   \n",
       "75%                   10.600000            2952.870000  4431.130000   \n",
       "max                   18.220000            3107.330000  6967.470000   \n",
       "\n",
       "       life_expectancy_2005  \n",
       "count             33.000000  \n",
       "mean              68.821212  \n",
       "std                8.016419  \n",
       "min               51.900000  \n",
       "25%               68.500000  \n",
       "50%               72.400000  \n",
       "75%               74.100000  \n",
       "max               78.400000  "
      ]
     },
     "execution_count": 71,
     "metadata": {},
     "output_type": "execute_result"
    }
   ],
   "source": [
    "q5_df_gdp_below_mean_and_alc_above_mean_foodmoderate.describe()"
   ]
  },
  {
   "cell_type": "code",
   "execution_count": 72,
   "metadata": {},
   "outputs": [
    {
     "data": {
      "text/html": [
       "<div>\n",
       "<style scoped>\n",
       "    .dataframe tbody tr th:only-of-type {\n",
       "        vertical-align: middle;\n",
       "    }\n",
       "\n",
       "    .dataframe tbody tr th {\n",
       "        vertical-align: top;\n",
       "    }\n",
       "\n",
       "    .dataframe thead th {\n",
       "        text-align: right;\n",
       "    }\n",
       "</style>\n",
       "<table border=\"1\" class=\"dataframe\">\n",
       "  <thead>\n",
       "    <tr style=\"text-align: right;\">\n",
       "      <th></th>\n",
       "      <th>alcohol_consumption_2005</th>\n",
       "      <th>food_consumption_2005</th>\n",
       "      <th>gdp_2005</th>\n",
       "      <th>life_expectancy_2005</th>\n",
       "    </tr>\n",
       "  </thead>\n",
       "  <tbody>\n",
       "    <tr>\n",
       "      <th>alcohol_consumption_2005</th>\n",
       "      <td>1.000000</td>\n",
       "      <td>0.390202</td>\n",
       "      <td>0.077658</td>\n",
       "      <td>-0.056222</td>\n",
       "    </tr>\n",
       "    <tr>\n",
       "      <th>food_consumption_2005</th>\n",
       "      <td>0.390202</td>\n",
       "      <td>1.000000</td>\n",
       "      <td>0.269305</td>\n",
       "      <td>0.288385</td>\n",
       "    </tr>\n",
       "    <tr>\n",
       "      <th>gdp_2005</th>\n",
       "      <td>0.077658</td>\n",
       "      <td>0.269305</td>\n",
       "      <td>1.000000</td>\n",
       "      <td>0.439369</td>\n",
       "    </tr>\n",
       "    <tr>\n",
       "      <th>life_expectancy_2005</th>\n",
       "      <td>-0.056222</td>\n",
       "      <td>0.288385</td>\n",
       "      <td>0.439369</td>\n",
       "      <td>1.000000</td>\n",
       "    </tr>\n",
       "  </tbody>\n",
       "</table>\n",
       "</div>"
      ],
      "text/plain": [
       "                          alcohol_consumption_2005  food_consumption_2005  \\\n",
       "alcohol_consumption_2005                  1.000000               0.390202   \n",
       "food_consumption_2005                     0.390202               1.000000   \n",
       "gdp_2005                                  0.077658               0.269305   \n",
       "life_expectancy_2005                     -0.056222               0.288385   \n",
       "\n",
       "                          gdp_2005  life_expectancy_2005  \n",
       "alcohol_consumption_2005  0.077658             -0.056222  \n",
       "food_consumption_2005     0.269305              0.288385  \n",
       "gdp_2005                  1.000000              0.439369  \n",
       "life_expectancy_2005      0.439369              1.000000  "
      ]
     },
     "execution_count": 72,
     "metadata": {},
     "output_type": "execute_result"
    }
   ],
   "source": [
    "q5_df_gdp_below_mean_and_alc_above_mean_foodmoderate.corr()"
   ]
  },
  {
   "cell_type": "code",
   "execution_count": 73,
   "metadata": {},
   "outputs": [
    {
     "data": {
      "image/png": "[encoded data removed]",
      "text/plain": [
       "<Figure size 432x288 with 1 Axes>"
      ]
     },
     "metadata": {},
     "output_type": "display_data"
    }
   ],
   "source": [
    "# Visualising the data and correlation using scatter plot. \n",
    "# The size of the bubbles are static and not influenced by any parameter. \n",
    "N = len(q5_df_gdp_below_mean_and_alc_above_mean_foodmoderate)\n",
    "x = q5_df_gdp_below_mean_and_alc_above_mean_foodmoderate['alcohol_consumption_2005']\n",
    "y = q5_df_gdp_below_mean_and_alc_above_mean_foodmoderate['life_expectancy_2005']\n",
    "colors = np.random.rand(N)\n",
    "\n",
    "# This is to scale the size of the bubbles based on corresponding countries' GDP.\n",
    "area = np.pi * (q5_df_gdp_below_mean_and_alc_above_mean_foodmoderate['gdp_2005'])**0.3 \n",
    "\n",
    "plt.scatter(x, y, s=area, c=colors, alpha=0.5, label='Countries GDP')\n",
    "plt.plot(np.unique(x), np.poly1d(np.polyfit(x, y, 1))(np.unique(x)))\n",
    "plt.xlabel('Alcohol Consumption (litres/person)') \n",
    "plt.ylabel('Life Expectancies (years)') \n",
    "plt.title('How Alcohol Consumption Affect Life Expectancies in low GDP countries') \n",
    "plt.legend()\n",
    "plt.grid(True)\n",
    "plt.show()"
   ]
  },
  {
   "cell_type": "markdown",
   "metadata": {},
   "source": [
    "We have 33 countries left that we can use for the analysis after further isolation. We could see that by isolating GDP and Food Consumption parameters, the correlation of Life Expectancies to those two indicators have been reduced significantly. On the other side, we can also see how previously positive correlation in between Alcohol Consumption and Life Expectancies has disappeared. In fact, it starts to show negative correlation, even though at this stage it is barely visible with -0.056 coefficient R. Perhaps, with more up to date data and better isolations, we could do more rigorous analysis and draw better conclusion. Especially, there are some other factors that could affect alcohol consumption, such as government tax and regulation, weather, culture, etc.\n",
    "\n",
    "The scatter plot mostly support the argument where there is no correlation in between two indicators, as the data are mapped quite randomly. Regardless, it is still surprising to see that even in the scatter plot from recent isolated data set above, it seems that countries where the alcohol consumption is above the mean, also have life expectancies above the mean. Perhaps, alcohol is not that bad after all!"
   ]
  },
  {
   "cell_type": "markdown",
   "metadata": {},
   "source": [
    "\n",
    "\n",
    "##### Q5 Conclusion\n",
    "\n",
    "In general, the correlations ran on the Data Frame across 4 indicators (apart from Work Hours) are aligned with the analyses and conclusions done on previous questions. In fact, Pearson correlation coefficient is even stronger than in previous analyses.\n",
    "\n",
    "This is the first time in this project where Alcohol Consumption is being compared directly. The initial result is quite surprising, given it shows that there is a positive correlation in increased alcohol consumption and life expectancies, even though the correlation is relatively weak.\n",
    "\n",
    "However, from running the correlation across whole 4 indicators (apart from Work Hours), we could see that Life Expectancies is affected quite strongly by GDP and Food Consumption. By reducing its correlation to GDP and Food Consumption through isolation of selected data, we could see how the correlation in between Alcohol Consumption and Life Expectancies is shifting toward none to negative correlation. Although, from the data that we have at hand, we are not able to isolate it further and do more comprehensive analysis to be able to see real correlation in between Alcohol Consumption and Life Expectancies. Or simply, these are not the best type of data to be used to analyse the correlation in between Alcohol Consumption and Life Expectancies.\n",
    "\n",
    "Apart from that, since in most countries Alcohol is a regulated commodities, perhaps this also could affect the result of analysis. Even in Gapminder's data that we use, they declared the difficulties in estimating the alcohol consumptions due to many factors. Until we can get more complete and accurate data set, we would not be able to run a good analysis on this.   "
   ]
  }
 ],
 "metadata": {
  "kernelspec": {
   "display_name": "Python [conda env:Anaconda3]",
   "language": "python",
   "name": "conda-env-Anaconda3-py"
  },
  "language_info": {
   "codemirror_mode": {
    "name": "ipython",
    "version": 3
   },
   "file_extension": ".py",
   "mimetype": "text/x-python",
   "name": "python",
   "nbconvert_exporter": "python",
   "pygments_lexer": "ipython3",
   "version": "3.6.4"
  }
 },
 "nbformat": 4,
 "nbformat_minor": 2
}
